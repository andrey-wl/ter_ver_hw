{
 "cells": [
  {
   "cell_type": "code",
   "execution_count": 1,
   "id": "d7183089-4869-496c-be6a-363b88a01aff",
   "metadata": {},
   "outputs": [],
   "source": [
    "import numpy as np\n",
    "from math import sqrt\n",
    "import matplotlib.pyplot as plt"
   ]
  },
  {
   "cell_type": "markdown",
   "id": "1111bd2d-8608-4338-bba3-0560837990de",
   "metadata": {},
   "source": [
    "### Урок 4. Непрерывные случайные величины. Функция распределения и плотность распределения вероятностей. Равномерное и нормальное распределение. Центральная предельная теорема\n",
    "\n",
    "1. Случайная непрерывная величина A имеет равномерное распределение на промежутке (200, 800].\n",
    "Найдите ее среднее значение и дисперсию."
   ]
  },
  {
   "cell_type": "code",
   "execution_count": 2,
   "id": "e74a1bd1-5c1c-4d0d-93e0-9858fbc9baf9",
   "metadata": {},
   "outputs": [],
   "source": [
    "a = 200\n",
    "b = 800"
   ]
  },
  {
   "cell_type": "code",
   "execution_count": 3,
   "id": "c50d827e-2eab-4bce-af6c-52fa91812a2a",
   "metadata": {},
   "outputs": [
    {
     "name": "stdout",
     "output_type": "stream",
     "text": [
      "среднее значение: 500.0\n"
     ]
    }
   ],
   "source": [
    "m = (a + b) / 2\n",
    "print(f'среднее значение: {m}')"
   ]
  },
  {
   "cell_type": "code",
   "execution_count": 4,
   "id": "385e77f4-e9e2-4d9e-8db8-b77ddb63be30",
   "metadata": {},
   "outputs": [
    {
     "name": "stdout",
     "output_type": "stream",
     "text": [
      "дисперсия: 30000.0\n"
     ]
    }
   ],
   "source": [
    "d = (a - b)**2 / 12\n",
    "print(f'дисперсия: {d}')"
   ]
  },
  {
   "cell_type": "markdown",
   "id": "6b60330f-122c-4392-8dcf-836634c62ab4",
   "metadata": {},
   "source": [
    "2. О случайной непрерывной равномерно распределенной величине B известно, что ее дисперсия равна 0.2.\n",
    "Можно ли найти правую границу величины B и ее среднее значение зная, что левая граница равна 0.5?\n",
    "Если да, найдите ее.\n",
    "\n",
    "## $$D = \\frac{(a - b)^2}{12}$$\n",
    "\n",
    "## Выразим из дисперсии a: $$a = \\sqrt{12D} + b$$"
   ]
  },
  {
   "cell_type": "code",
   "execution_count": 5,
   "id": "7223d60a-4004-4a3d-a588-5420175e2f62",
   "metadata": {},
   "outputs": [],
   "source": [
    "D = 0.2\n",
    "b = 0.5"
   ]
  },
  {
   "cell_type": "code",
   "execution_count": 6,
   "id": "bd9a0782-492d-47a2-b429-60b5f241283d",
   "metadata": {},
   "outputs": [
    {
     "data": {
      "text/plain": [
       "2.049193338482967"
      ]
     },
     "execution_count": 6,
     "metadata": {},
     "output_type": "execute_result"
    }
   ],
   "source": [
    "a = sqrt(12 * D) + b\n",
    "a"
   ]
  },
  {
   "cell_type": "code",
   "execution_count": 7,
   "id": "59227c4d-6edc-4867-b039-60bd00f70f68",
   "metadata": {},
   "outputs": [
    {
     "data": {
      "text/plain": [
       "1.2745966692414834"
      ]
     },
     "execution_count": 7,
     "metadata": {},
     "output_type": "execute_result"
    }
   ],
   "source": [
    "m = (a + b) / 2\n",
    "m"
   ]
  },
  {
   "cell_type": "markdown",
   "id": "d2c040e7-2a4b-4f42-a22b-dbddefa29cd0",
   "metadata": {},
   "source": [
    "3. Непрерывная случайная величина X распределена нормально и задана плотностью распределения\n",
    "f(x) = (1 / (4 * sqrt(2*pi))) * (exp(-(x+2)**2) / 32).\n",
    "Найдите:\n",
    "а). M(X)\n",
    "б). D(X)\n",
    "в). std(X) (среднее квадратичное отклонение)"
   ]
  },
  {
   "cell_type": "markdown",
   "id": "9b040a71-546d-4bac-82c1-9a67a5824e4e",
   "metadata": {},
   "source": [
    "## $$f(x) = \\frac{1}{4 * \\sqrt{2pi}} * exp^\\frac{-(x+2)^2}{32}$$"
   ]
  },
  {
   "cell_type": "markdown",
   "id": "c5e575a7-d31a-4138-81b9-fa27a03aa7ec",
   "metadata": {},
   "source": [
    "Найдите: а). M(X)\n",
    "## $$M(X) = a = 2$$"
   ]
  },
  {
   "cell_type": "markdown",
   "id": "ef9159c5-e707-48df-821c-1035b440f976",
   "metadata": {},
   "source": [
    "Найдите: б). D(X)\n",
    "## $$D(x) = \\sigma^2 = 16$$"
   ]
  },
  {
   "cell_type": "markdown",
   "id": "02778cad-bed2-4321-920a-c743bfb6062f",
   "metadata": {},
   "source": [
    "Найдите: в). std(X) (среднее квадратичное отклонение)\n",
    "## $$\\sigma = 4$$"
   ]
  },
  {
   "cell_type": "markdown",
   "id": "7b1d268f-bf80-42bb-b6fe-4a027fd38fc2",
   "metadata": {},
   "source": [
    "4. Рост взрослого населения города X имеет нормальное распределение.\n",
    "Причем, средний рост равен 174 см, а среднее квадратичное отклонение равно 8 см.\n",
    "Какова вероятность того, что случайным образом выбранный взрослый человек имеет рост:\n",
    "* а). больше 182 см\n",
    "*б). больше 190 см\n",
    "*в). от 166 см до 190 см\n",
    "*г). от 166 см до 182 см\n",
    "*д). от 158 см до 190 см\n",
    "*е). не выше 150 см или не ниже 190 см\n",
    "*ё). не выше 150 см или не ниже 198 см\n",
    "*ж). ниже 166 см."
   ]
  },
  {
   "cell_type": "code",
   "execution_count": 8,
   "id": "22c67fa1-ff3e-4038-8e19-ea9679da76f0",
   "metadata": {},
   "outputs": [
    {
     "data": {
      "text/plain": [
       "Text(0, 0.5, 'Плотность')"
      ]
     },
     "execution_count": 8,
     "metadata": {},
     "output_type": "execute_result"
    },
    {
     "data": {
      "image/png": "[encoded data removed]",
      "text/plain": [
       "<Figure size 432x288 with 1 Axes>"
      ]
     },
     "metadata": {
      "needs_background": "light"
     },
     "output_type": "display_data"
    }
   ],
   "source": [
    "x = np.linspace(140, 210, 210)\n",
    "\n",
    "# Функция нормального распределения непрерывной случайной величины.\n",
    "def normal_dist(x , mean , sd):\n",
    "    prob_density = (np.pi*sd) * np.exp(-0.5*((x-mean)/sd)**2)\n",
    "    return prob_density\n",
    "\n",
    "mean = 174\n",
    "sd = 8\n",
    "\n",
    "func = normal_dist(x, mean, sd)\n",
    "\n",
    "plt.plot(x, func, color = 'red')\n",
    "plt.xlabel('Рост')\n",
    "plt.ylabel('Плотность')"
   ]
  },
  {
   "cell_type": "markdown",
   "id": "3392d5dc-f370-457d-825e-30764838c785",
   "metadata": {},
   "source": [
    "### а) больше 182 см"
   ]
  },
  {
   "cell_type": "code",
   "execution_count": 9,
   "id": "60634882-9f1f-45a7-9695-9a5b17eeba04",
   "metadata": {},
   "outputs": [
    {
     "data": {
      "text/plain": [
       "-1.0"
      ]
     },
     "execution_count": 9,
     "metadata": {},
     "output_type": "execute_result"
    }
   ],
   "source": [
    "z = (174 - 182) / 8\n",
    "z"
   ]
  },
  {
   "cell_type": "code",
   "execution_count": 10,
   "id": "a53d7b97-2149-4cf2-9dbc-fe30169cf3da",
   "metadata": {},
   "outputs": [],
   "source": [
    "P = 0.1587"
   ]
  },
  {
   "cell_type": "markdown",
   "id": "c2c81808-e7bc-453a-98e4-0a62665c1915",
   "metadata": {},
   "source": [
    "### б) больше 190 см"
   ]
  },
  {
   "cell_type": "code",
   "execution_count": 11,
   "id": "93f94bc3-cc81-4075-a2f7-867c3fac4220",
   "metadata": {},
   "outputs": [
    {
     "data": {
      "text/plain": [
       "-2.0"
      ]
     },
     "execution_count": 11,
     "metadata": {},
     "output_type": "execute_result"
    }
   ],
   "source": [
    "z = (174 - 190) / 8\n",
    "z"
   ]
  },
  {
   "cell_type": "code",
   "execution_count": 12,
   "id": "5432cb7b-76fa-42f9-bcb2-3313363f8a79",
   "metadata": {},
   "outputs": [],
   "source": [
    "P = 0.0228"
   ]
  },
  {
   "cell_type": "markdown",
   "id": "d3564052-f5b2-4ed6-8490-f27ebfd68d53",
   "metadata": {},
   "source": [
    "### в). от 166 см до 190 см"
   ]
  },
  {
   "cell_type": "code",
   "execution_count": 13,
   "id": "ea9901e8-b1e1-4ea4-92a5-91cfb71dc3aa",
   "metadata": {},
   "outputs": [
    {
     "data": {
      "text/plain": [
       "-1.0"
      ]
     },
     "execution_count": 13,
     "metadata": {},
     "output_type": "execute_result"
    }
   ],
   "source": [
    "z = (166 - 174) / 8\n",
    "z"
   ]
  },
  {
   "cell_type": "code",
   "execution_count": 14,
   "id": "d0682fe9-da32-47a6-b866-364d07b07ef3",
   "metadata": {},
   "outputs": [],
   "source": [
    "P1 = 0.1587"
   ]
  },
  {
   "cell_type": "code",
   "execution_count": 15,
   "id": "aac2d4e9-f6a2-4587-8a51-81ebf61df281",
   "metadata": {},
   "outputs": [
    {
     "data": {
      "text/plain": [
       "2.0"
      ]
     },
     "execution_count": 15,
     "metadata": {},
     "output_type": "execute_result"
    }
   ],
   "source": [
    "z = (190 - 174) / 8\n",
    "z"
   ]
  },
  {
   "cell_type": "code",
   "execution_count": 16,
   "id": "ea9841dd-f1fc-45bb-a921-5b712650e4d5",
   "metadata": {},
   "outputs": [],
   "source": [
    "P2 = 0.9772"
   ]
  },
  {
   "cell_type": "code",
   "execution_count": 17,
   "id": "332fc562-5c1a-4eae-be3d-63f31a871d77",
   "metadata": {},
   "outputs": [
    {
     "data": {
      "text/plain": [
       "0.8185"
      ]
     },
     "execution_count": 17,
     "metadata": {},
     "output_type": "execute_result"
    }
   ],
   "source": [
    "P = P2 - P1\n",
    "P"
   ]
  },
  {
   "cell_type": "markdown",
   "id": "b38deb89-2ccd-454d-94e8-66c78c295e74",
   "metadata": {},
   "source": [
    "### г) от 166 см до 182 см"
   ]
  },
  {
   "cell_type": "code",
   "execution_count": 18,
   "id": "4a3aea48-5a64-48b7-a91f-83db76b3041a",
   "metadata": {},
   "outputs": [
    {
     "data": {
      "text/plain": [
       "-1.0"
      ]
     },
     "execution_count": 18,
     "metadata": {},
     "output_type": "execute_result"
    }
   ],
   "source": [
    "z = (166 - 174) / 8\n",
    "z"
   ]
  },
  {
   "cell_type": "code",
   "execution_count": 19,
   "id": "f7400357-4fea-4a47-bf2a-f0f05d8a3a27",
   "metadata": {},
   "outputs": [],
   "source": [
    "P1 = 0.1587"
   ]
  },
  {
   "cell_type": "code",
   "execution_count": 20,
   "id": "451e70fa-9c88-4408-b754-f86aa03faa21",
   "metadata": {},
   "outputs": [
    {
     "data": {
      "text/plain": [
       "1.0"
      ]
     },
     "execution_count": 20,
     "metadata": {},
     "output_type": "execute_result"
    }
   ],
   "source": [
    "z = (182 - 174) / 8\n",
    "z"
   ]
  },
  {
   "cell_type": "code",
   "execution_count": 21,
   "id": "350bed6e-8c9a-4d3a-8085-2bde7181bd0b",
   "metadata": {},
   "outputs": [],
   "source": [
    "P2 = 0.8413"
   ]
  },
  {
   "cell_type": "code",
   "execution_count": 22,
   "id": "ff6cdd20-f1aa-434c-8615-50a19ebadcdd",
   "metadata": {},
   "outputs": [
    {
     "data": {
      "text/plain": [
       "0.6826000000000001"
      ]
     },
     "execution_count": 22,
     "metadata": {},
     "output_type": "execute_result"
    }
   ],
   "source": [
    "P = P2 - P1\n",
    "P"
   ]
  },
  {
   "cell_type": "markdown",
   "id": "bd1c195e-23c9-48ff-b8de-78f0005cbb31",
   "metadata": {},
   "source": [
    "### д) от 158 см до 190 см"
   ]
  },
  {
   "cell_type": "code",
   "execution_count": 23,
   "id": "400be6bb-0844-4b7d-8c0c-d7f466af9073",
   "metadata": {},
   "outputs": [
    {
     "data": {
      "text/plain": [
       "2.0"
      ]
     },
     "execution_count": 23,
     "metadata": {},
     "output_type": "execute_result"
    }
   ],
   "source": [
    "z = (174 - 158) / 8\n",
    "z"
   ]
  },
  {
   "cell_type": "code",
   "execution_count": 24,
   "id": "b442a292-3412-4700-8ebe-b91917714e9d",
   "metadata": {},
   "outputs": [],
   "source": [
    "P1 = 0.0228"
   ]
  },
  {
   "cell_type": "code",
   "execution_count": 25,
   "id": "b9f9a4a7-6900-4a6d-9ce4-c89526f2c367",
   "metadata": {},
   "outputs": [
    {
     "data": {
      "text/plain": [
       "2.0"
      ]
     },
     "execution_count": 25,
     "metadata": {},
     "output_type": "execute_result"
    }
   ],
   "source": [
    "z = (190 - 174) / 8\n",
    "z"
   ]
  },
  {
   "cell_type": "code",
   "execution_count": 26,
   "id": "9a63ab79-7ec7-4f96-b6ae-93b628c30f53",
   "metadata": {},
   "outputs": [],
   "source": [
    "P2 = 0.9772"
   ]
  },
  {
   "cell_type": "code",
   "execution_count": 27,
   "id": "aabd58d5-5c2f-4f41-b622-ba4ec5fb0415",
   "metadata": {},
   "outputs": [
    {
     "data": {
      "text/plain": [
       "0.9543999999999999"
      ]
     },
     "execution_count": 27,
     "metadata": {},
     "output_type": "execute_result"
    }
   ],
   "source": [
    "P = P2 - P1\n",
    "P"
   ]
  },
  {
   "cell_type": "code",
   "execution_count": 28,
   "id": "96f753ef-2370-44f8-8b0c-d2e593b07070",
   "metadata": {},
   "outputs": [
    {
     "data": {
      "text/plain": [
       "3.0"
      ]
     },
     "execution_count": 28,
     "metadata": {},
     "output_type": "execute_result"
    }
   ],
   "source": [
    "z = (174 - 150) / 8\n",
    "z"
   ]
  },
  {
   "cell_type": "code",
   "execution_count": 29,
   "id": "fe7316e6-386c-4fb1-aece-7a73410bc544",
   "metadata": {},
   "outputs": [
    {
     "data": {
      "text/plain": [
       "0.0013999999999999568"
      ]
     },
     "execution_count": 29,
     "metadata": {},
     "output_type": "execute_result"
    }
   ],
   "source": [
    "P1 = 1 - 0.9986\n",
    "P1"
   ]
  },
  {
   "cell_type": "code",
   "execution_count": 30,
   "id": "f313ffa3-124c-4cbb-9366-66563a27301c",
   "metadata": {},
   "outputs": [
    {
     "data": {
      "text/plain": [
       "2.0"
      ]
     },
     "execution_count": 30,
     "metadata": {},
     "output_type": "execute_result"
    }
   ],
   "source": [
    "z = (190 - 174) / 8\n",
    "z"
   ]
  },
  {
   "cell_type": "code",
   "execution_count": 31,
   "id": "de2448ad-2e0b-4f0c-9cff-b548d60722e9",
   "metadata": {},
   "outputs": [
    {
     "data": {
      "text/plain": [
       "0.022800000000000042"
      ]
     },
     "execution_count": 31,
     "metadata": {},
     "output_type": "execute_result"
    }
   ],
   "source": [
    "P2 = 1 - 0.9772\n",
    "P2"
   ]
  },
  {
   "cell_type": "code",
   "execution_count": 32,
   "id": "264f2581-69d5-4962-8ff0-6b84bf411ec3",
   "metadata": {},
   "outputs": [
    {
     "data": {
      "text/plain": [
       "0.0242"
      ]
     },
     "execution_count": 32,
     "metadata": {},
     "output_type": "execute_result"
    }
   ],
   "source": [
    "P = P1 + P2\n",
    "P"
   ]
  },
  {
   "cell_type": "markdown",
   "id": "6a51ecdb-7aad-4ec6-a731-381457da0f6b",
   "metadata": {},
   "source": [
    "### ё) не выше 150 см или не ниже 198 см"
   ]
  },
  {
   "cell_type": "code",
   "execution_count": 33,
   "id": "a617ea7e-e447-42dc-ad72-8b578e36143b",
   "metadata": {},
   "outputs": [
    {
     "data": {
      "text/plain": [
       "3.0"
      ]
     },
     "execution_count": 33,
     "metadata": {},
     "output_type": "execute_result"
    }
   ],
   "source": [
    "z = (174 - 150) / 8\n",
    "z"
   ]
  },
  {
   "cell_type": "code",
   "execution_count": 34,
   "id": "66674120-0d01-423f-963c-b770ce1512ca",
   "metadata": {},
   "outputs": [
    {
     "data": {
      "text/plain": [
       "0.0013999999999999568"
      ]
     },
     "execution_count": 34,
     "metadata": {},
     "output_type": "execute_result"
    }
   ],
   "source": [
    "P1 = 1 - 0.9986\n",
    "P1"
   ]
  },
  {
   "cell_type": "code",
   "execution_count": 35,
   "id": "acb479c8-98f6-4dfe-bce2-9f4a90ac4090",
   "metadata": {},
   "outputs": [
    {
     "data": {
      "text/plain": [
       "3.0"
      ]
     },
     "execution_count": 35,
     "metadata": {},
     "output_type": "execute_result"
    }
   ],
   "source": [
    "z = (198 - 174) / 8\n",
    "z"
   ]
  },
  {
   "cell_type": "code",
   "execution_count": 36,
   "id": "3c7dcc5a-3c67-4529-9a92-964656f5be3d",
   "metadata": {},
   "outputs": [
    {
     "data": {
      "text/plain": [
       "0.0013999999999999568"
      ]
     },
     "execution_count": 36,
     "metadata": {},
     "output_type": "execute_result"
    }
   ],
   "source": [
    "P2 = 1 - 0.9986\n",
    "P2"
   ]
  },
  {
   "cell_type": "code",
   "execution_count": 37,
   "id": "bfa961af-a146-457d-97f4-4ed5ab4b3269",
   "metadata": {},
   "outputs": [
    {
     "data": {
      "text/plain": [
       "0.0027999999999999137"
      ]
     },
     "execution_count": 37,
     "metadata": {},
     "output_type": "execute_result"
    }
   ],
   "source": [
    "P = P1 + P2\n",
    "P"
   ]
  },
  {
   "cell_type": "markdown",
   "id": "36b0d047-0d01-480e-9426-0855d651625b",
   "metadata": {},
   "source": [
    "### ж) ниже 166 см."
   ]
  },
  {
   "cell_type": "code",
   "execution_count": 38,
   "id": "57a197d1-2dc4-449d-a683-4e47b791cbd3",
   "metadata": {},
   "outputs": [
    {
     "data": {
      "text/plain": [
       "1.0"
      ]
     },
     "execution_count": 38,
     "metadata": {},
     "output_type": "execute_result"
    }
   ],
   "source": [
    "z = (174 - 166) / 8\n",
    "z"
   ]
  },
  {
   "cell_type": "code",
   "execution_count": 39,
   "id": "010bb453-7fcc-44ac-aaa6-a2dd7852e557",
   "metadata": {},
   "outputs": [
    {
     "data": {
      "text/plain": [
       "0.15869999999999995"
      ]
     },
     "execution_count": 39,
     "metadata": {},
     "output_type": "execute_result"
    }
   ],
   "source": [
    "P = 1 - 0.8413\n",
    "P"
   ]
  },
  {
   "cell_type": "markdown",
   "id": "827cefa3-8fe0-4695-bc2e-e93b8a932b77",
   "metadata": {},
   "source": [
    "5. На сколько сигм (средних квадратичных отклонений) отклоняется рост человека, равный 190 см, от\n",
    "математического ожидания роста в популяции, в которой M(X) = 178 см и D(X) = 25 кв.см?"
   ]
  },
  {
   "cell_type": "code",
   "execution_count": 40,
   "id": "30b64ee1-b347-45d6-996a-d7be3ff97bfb",
   "metadata": {},
   "outputs": [
    {
     "name": "stdout",
     "output_type": "stream",
     "text": [
      "2.4 раза\n"
     ]
    }
   ],
   "source": [
    "x = 190\n",
    "m = 178\n",
    "d = 25\n",
    "n = (x - m)/sqrt(d)\n",
    "print(f'{n} раза')"
   ]
  }
 ],
 "metadata": {
  "kernelspec": {
   "display_name": "Python 3 (ipykernel)",
   "language": "python",
   "name": "python3"
  },
  "language_info": {
   "codemirror_mode": {
    "name": "ipython",
    "version": 3
   },
   "file_extension": ".py",
   "mimetype": "text/x-python",
   "name": "python",
   "nbconvert_exporter": "python",
   "pygments_lexer": "ipython3",
   "version": "3.9.7"
  }
 },
 "nbformat": 4,
 "nbformat_minor": 5
}
