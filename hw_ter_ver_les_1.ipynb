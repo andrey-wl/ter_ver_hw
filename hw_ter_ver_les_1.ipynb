{
 "cells": [
  {
   "cell_type": "code",
   "execution_count": 1,
   "id": "2a5f8ed5-8e34-44e5-8d6b-e29b62db9aed",
   "metadata": {},
   "outputs": [],
   "source": [
    "from math import factorial"
   ]
  },
  {
   "cell_type": "code",
   "execution_count": 2,
   "id": "fb00dfc7-4cb4-4d90-a9cf-301ef6a5fdee",
   "metadata": {},
   "outputs": [],
   "source": [
    "def combination(n, k):\n",
    "    return int(factorial(n) / (factorial(k) * factorial(n-k)))"
   ]
  },
  {
   "cell_type": "code",
   "execution_count": 3,
   "id": "0812d8cd-93a0-4319-9c5d-126a00ace8a1",
   "metadata": {},
   "outputs": [],
   "source": [
    "# 1\n",
    "# Из колоды в 52 карты извлекаются случайным образом 4 карты."
   ]
  },
  {
   "cell_type": "code",
   "execution_count": 4,
   "id": "c55d3f24-f238-40ff-b41d-46a7e632f4e0",
   "metadata": {},
   "outputs": [],
   "source": [
    "# a) Найти вероятность того, что все карты – крести. \n",
    "# В колоде из 52 карт, все масти по 13 шт. Порядок не важен, применим формулу сочетания. "
   ]
  },
  {
   "cell_type": "code",
   "execution_count": 5,
   "id": "87c74faa-270d-4dba-b798-83c276f673ab",
   "metadata": {},
   "outputs": [
    {
     "data": {
      "text/plain": [
       "715"
      ]
     },
     "execution_count": 5,
     "metadata": {},
     "output_type": "execute_result"
    }
   ],
   "source": [
    "n_1 = 13\n",
    "k_1 = 4\n",
    "\n",
    "C_1 = combination(n_1, k_1)\n",
    "C_1"
   ]
  },
  {
   "cell_type": "code",
   "execution_count": 6,
   "id": "c72017ea-fd9a-49a6-8024-581251d92873",
   "metadata": {},
   "outputs": [
    {
     "data": {
      "text/plain": [
       "1"
      ]
     },
     "execution_count": 6,
     "metadata": {},
     "output_type": "execute_result"
    }
   ],
   "source": [
    "n_2 = 39\n",
    "k_2 = 0\n",
    "\n",
    "C_2 = combination(n_2, k_2)\n",
    "C_2"
   ]
  },
  {
   "cell_type": "code",
   "execution_count": 7,
   "id": "66cf3662-2139-4c34-bddc-303ce1923f17",
   "metadata": {
    "tags": []
   },
   "outputs": [
    {
     "data": {
      "text/plain": [
       "715"
      ]
     },
     "execution_count": 7,
     "metadata": {},
     "output_type": "execute_result"
    }
   ],
   "source": [
    "# бл. число исходов\n",
    "\n",
    "C = C_1 * C_2\n",
    "C"
   ]
  },
  {
   "cell_type": "code",
   "execution_count": 8,
   "id": "235b7f6a-89f3-4ce4-b977-6ae304fc9df8",
   "metadata": {},
   "outputs": [
    {
     "data": {
      "text/plain": [
       "270725"
      ]
     },
     "execution_count": 8,
     "metadata": {},
     "output_type": "execute_result"
    }
   ],
   "source": [
    "# общее число исходов\n",
    "\n",
    "n_3 = 52\n",
    "k_3 = 4\n",
    "\n",
    "C_3 = combination(n_3, k_3)\n",
    "C_3"
   ]
  },
  {
   "cell_type": "code",
   "execution_count": 9,
   "id": "0c576ec1-2b40-4740-9b22-88d46292756e",
   "metadata": {},
   "outputs": [
    {
     "data": {
      "text/plain": [
       "0.26410564225690275"
      ]
     },
     "execution_count": 9,
     "metadata": {},
     "output_type": "execute_result"
    }
   ],
   "source": [
    "# Найдем вероятность\n",
    "\n",
    "P = C / C_3\n",
    "P * 100"
   ]
  },
  {
   "cell_type": "code",
   "execution_count": 10,
   "id": "3d4269be-4938-4b62-a182-b02d6e72b9ac",
   "metadata": {},
   "outputs": [],
   "source": [
    "# б) Найти вероятность, что среди 4-х карт окажется хотя бы один туз."
   ]
  },
  {
   "cell_type": "code",
   "execution_count": 11,
   "id": "4d21041f-ceb0-4bb8-b869-1ce347794398",
   "metadata": {},
   "outputs": [
    {
     "data": {
      "text/plain": [
       "4"
      ]
     },
     "execution_count": 11,
     "metadata": {},
     "output_type": "execute_result"
    }
   ],
   "source": [
    "n_4 = 4\n",
    "k_4 = 1\n",
    "\n",
    "C_4 = combination(n_4, k_4)\n",
    "C_4"
   ]
  },
  {
   "cell_type": "code",
   "execution_count": 12,
   "id": "f8f19a62-c556-4330-ab1c-74c06d08cef1",
   "metadata": {},
   "outputs": [
    {
     "data": {
      "text/plain": [
       "17296"
      ]
     },
     "execution_count": 12,
     "metadata": {},
     "output_type": "execute_result"
    }
   ],
   "source": [
    "n_5 = 48\n",
    "k_5 = 3\n",
    "\n",
    "C_5 = combination(n_5, k_5)\n",
    "C_5"
   ]
  },
  {
   "cell_type": "code",
   "execution_count": 13,
   "id": "859d36ab-ec56-4c0d-b3f3-53112bd99899",
   "metadata": {},
   "outputs": [
    {
     "data": {
      "text/plain": [
       "69184"
      ]
     },
     "execution_count": 13,
     "metadata": {},
     "output_type": "execute_result"
    }
   ],
   "source": [
    "# бл. число исходов\n",
    "\n",
    "C2 = C_4 * C_5\n",
    "C2"
   ]
  },
  {
   "cell_type": "code",
   "execution_count": 14,
   "id": "03d2e288-f5be-4591-82b4-24eab58f4a8d",
   "metadata": {},
   "outputs": [
    {
     "data": {
      "text/plain": [
       "25.555083571890297"
      ]
     },
     "execution_count": 14,
     "metadata": {},
     "output_type": "execute_result"
    }
   ],
   "source": [
    "# Найдем вероятность\n",
    "\n",
    "P = C2 / C_3\n",
    "P * 100"
   ]
  },
  {
   "cell_type": "code",
   "execution_count": 15,
   "id": "4cd70b59-06dd-4bb0-8209-d57ee1afc82e",
   "metadata": {},
   "outputs": [],
   "source": [
    "# 2 \n",
    "# На входной двери подъезда установлен кодовый замок, содержащий десять кнопок с цифрами от 0 до 9. \n",
    "# Код содержит три цифры, которые нужно нажать одновременно. \n",
    "# Какова вероятность того, что человек, не знающий код, откроет дверь с первой попытки?"
   ]
  },
  {
   "cell_type": "code",
   "execution_count": 16,
   "id": "0e3b0278-bcc5-41e8-8890-2674d94546dc",
   "metadata": {},
   "outputs": [
    {
     "data": {
      "text/plain": [
       "120"
      ]
     },
     "execution_count": 16,
     "metadata": {},
     "output_type": "execute_result"
    }
   ],
   "source": [
    "n = 10\n",
    "k = 3\n",
    "\n",
    "C = combination(n, k)\n",
    "C"
   ]
  },
  {
   "cell_type": "code",
   "execution_count": 17,
   "id": "c08b5f29-172e-45d1-b6c9-1d57530bcfb9",
   "metadata": {},
   "outputs": [
    {
     "data": {
      "text/plain": [
       "0.8333333333333334"
      ]
     },
     "execution_count": 17,
     "metadata": {},
     "output_type": "execute_result"
    }
   ],
   "source": [
    "# Найдем вероятность\n",
    "\n",
    "P = 1 / C\n",
    "P * 100"
   ]
  },
  {
   "cell_type": "code",
   "execution_count": 18,
   "id": "94763729-3183-46e2-9845-f084c664bfe6",
   "metadata": {},
   "outputs": [],
   "source": [
    "# 3\n",
    "# В ящике имеется 15 деталей, из которых 9 окрашены. \n",
    "# Рабочий случайным образом извлекает 3 детали. \n",
    "# Какова вероятность того, что все извлеченные детали окрашены?"
   ]
  },
  {
   "cell_type": "code",
   "execution_count": 19,
   "id": "42cb2b1d-5a12-4222-91c4-0f278005e09b",
   "metadata": {},
   "outputs": [
    {
     "data": {
      "text/plain": [
       "84"
      ]
     },
     "execution_count": 19,
     "metadata": {},
     "output_type": "execute_result"
    }
   ],
   "source": [
    "n_1 = 9\n",
    "k_1 = 3\n",
    "\n",
    "C_1 = combination(n_1, k_1)\n",
    "C_1"
   ]
  },
  {
   "cell_type": "code",
   "execution_count": 20,
   "id": "54b3835b-2884-48ed-80af-6a7d373033d1",
   "metadata": {},
   "outputs": [
    {
     "data": {
      "text/plain": [
       "1"
      ]
     },
     "execution_count": 20,
     "metadata": {},
     "output_type": "execute_result"
    }
   ],
   "source": [
    "n_2 = 6\n",
    "k_3 = 0\n",
    "\n",
    "C_2 = combination(n_2, k_2)\n",
    "C_2"
   ]
  },
  {
   "cell_type": "code",
   "execution_count": 21,
   "id": "d3ba240b-18ac-467e-af52-8791aa3f1fd2",
   "metadata": {},
   "outputs": [
    {
     "data": {
      "text/plain": [
       "84"
      ]
     },
     "execution_count": 21,
     "metadata": {},
     "output_type": "execute_result"
    }
   ],
   "source": [
    "# бл. число исходов\n",
    "\n",
    "C = C_1 * C_2\n",
    "C"
   ]
  },
  {
   "cell_type": "code",
   "execution_count": 22,
   "id": "d4fe00f1-304a-4ce1-9a56-214e73dc01e6",
   "metadata": {},
   "outputs": [
    {
     "data": {
      "text/plain": [
       "455"
      ]
     },
     "execution_count": 22,
     "metadata": {},
     "output_type": "execute_result"
    }
   ],
   "source": [
    "# общее число исходов\n",
    "\n",
    "n_3 = 15\n",
    "k_3 = 3\n",
    "\n",
    "C_3 = combination(n_3, k_3)\n",
    "C_3"
   ]
  },
  {
   "cell_type": "code",
   "execution_count": 23,
   "id": "8bf25012-0cfe-48d9-9f41-fe7c25f2ec0c",
   "metadata": {},
   "outputs": [
    {
     "data": {
      "text/plain": [
       "18.461538461538463"
      ]
     },
     "execution_count": 23,
     "metadata": {},
     "output_type": "execute_result"
    }
   ],
   "source": [
    "# Найдем вероятность\n",
    "\n",
    "P = C / C_3\n",
    "P * 100"
   ]
  },
  {
   "cell_type": "code",
   "execution_count": 24,
   "id": "a5b42069-8691-4625-85d3-28179140d06b",
   "metadata": {},
   "outputs": [],
   "source": [
    "# 4\n",
    "# В лотерее 100 билетов. Из них 2 выигрышных.\n",
    "# Какова вероятность того, что 2 приобретенных билета окажутся выигрышными?"
   ]
  },
  {
   "cell_type": "code",
   "execution_count": 25,
   "id": "17ce39a3-7b52-437b-96e9-561b9a696a2b",
   "metadata": {},
   "outputs": [
    {
     "data": {
      "text/plain": [
       "1"
      ]
     },
     "execution_count": 25,
     "metadata": {},
     "output_type": "execute_result"
    }
   ],
   "source": [
    "n_1 = 2\n",
    "k_1 = 2\n",
    "\n",
    "C_1 = combination(n_1, k_1)\n",
    "C_1"
   ]
  },
  {
   "cell_type": "code",
   "execution_count": 26,
   "id": "164342de-53b1-43b1-aa8d-156a91c766d1",
   "metadata": {},
   "outputs": [
    {
     "data": {
      "text/plain": [
       "1"
      ]
     },
     "execution_count": 26,
     "metadata": {},
     "output_type": "execute_result"
    }
   ],
   "source": [
    "n_2 = 98\n",
    "k_3 = 0\n",
    "\n",
    "C_2 = combination(n_2, k_2)\n",
    "C_2"
   ]
  },
  {
   "cell_type": "code",
   "execution_count": 27,
   "id": "197012e6-b5a1-40d9-a19b-37fd4df0b0e9",
   "metadata": {},
   "outputs": [
    {
     "data": {
      "text/plain": [
       "1"
      ]
     },
     "execution_count": 27,
     "metadata": {},
     "output_type": "execute_result"
    }
   ],
   "source": [
    "# бл. число исходов\n",
    "\n",
    "C = C_1 * C_2\n",
    "C"
   ]
  },
  {
   "cell_type": "code",
   "execution_count": 28,
   "id": "3356c272-2ff4-4e03-b9ac-520f0739b666",
   "metadata": {},
   "outputs": [
    {
     "data": {
      "text/plain": [
       "4950"
      ]
     },
     "execution_count": 28,
     "metadata": {},
     "output_type": "execute_result"
    }
   ],
   "source": [
    "# общее число исходов\n",
    "\n",
    "n_3 = 100\n",
    "k_3 = 2\n",
    "\n",
    "C_3 = combination(n_3, k_3)\n",
    "C_3"
   ]
  },
  {
   "cell_type": "code",
   "execution_count": 29,
   "id": "7677858e-420f-47f8-a2cd-e21fe18bfae8",
   "metadata": {},
   "outputs": [
    {
     "data": {
      "text/plain": [
       "0.0202020202020202"
      ]
     },
     "execution_count": 29,
     "metadata": {},
     "output_type": "execute_result"
    }
   ],
   "source": [
    "# Найдем вероятность\n",
    "\n",
    "P = C / C_3\n",
    "P * 100"
   ]
  }
 ],
 "metadata": {
  "kernelspec": {
   "display_name": "Python 3 (ipykernel)",
   "language": "python",
   "name": "python3"
  },
  "language_info": {
   "codemirror_mode": {
    "name": "ipython",
    "version": 3
   },
   "file_extension": ".py",
   "mimetype": "text/x-python",
   "name": "python",
   "nbconvert_exporter": "python",
   "pygments_lexer": "ipython3",
   "version": "3.9.7"
  }
 },
 "nbformat": 4,
 "nbformat_minor": 5
}
