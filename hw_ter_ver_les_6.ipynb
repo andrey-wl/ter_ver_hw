{
 "cells": [
  {
   "cell_type": "code",
   "execution_count": 1,
   "id": "909543ee-0e1f-42b4-abea-a1e8600d73f3",
   "metadata": {},
   "outputs": [],
   "source": [
    "import numpy as np\n",
    "from math import sqrt"
   ]
  },
  {
   "cell_type": "markdown",
   "id": "e1444e20-a85f-4355-a5a1-000cc79c0834",
   "metadata": {},
   "source": [
    "1. Даны значения величины заработной платы заемщиков банка (zp) и значения их поведенческого кредитного скоринга (ks):\n",
    "zp = [35, 45, 190, 200, 40, 70, 54, 150, 120, 110],\n",
    "ks = [401, 574, 874, 919, 459, 739, 653, 902, 746, 832].\n",
    "\n",
    "Найдите ковариацию этих двух величин с помощью элементарных действий, а затем с помощью функции cov из numpy\n",
    "Полученные значения должны быть равны.\n",
    "Найдите коэффициент корреляции Пирсона с помощью ковариации и среднеквадратичных отклонений двух признаков,\n",
    "а затем с использованием функций из библиотек numpy и pandas."
   ]
  },
  {
   "cell_type": "code",
   "execution_count": 2,
   "id": "69d33a9d-ba36-4849-9683-51baf7e914a6",
   "metadata": {},
   "outputs": [],
   "source": [
    "zp = [35, 45, 190, 200, 40, 70, 54, 150, 120, 110]\n",
    "ks = [401, 574, 874, 919, 459, 739, 653, 902, 746, 832]"
   ]
  },
  {
   "cell_type": "code",
   "execution_count": 3,
   "id": "f0ef0f2d-ce59-430e-a1fc-186597e68dfd",
   "metadata": {},
   "outputs": [
    {
     "data": {
      "text/plain": [
       "array([[ 3494.64,  9157.84],\n",
       "       [ 9157.84, 30468.89]])"
      ]
     },
     "execution_count": 3,
     "metadata": {},
     "output_type": "execute_result"
    }
   ],
   "source": [
    "np.cov(zp, ks, ddof=0)"
   ]
  },
  {
   "cell_type": "code",
   "execution_count": 4,
   "id": "de4ce366-e996-4f7b-a394-45570e2e0bc6",
   "metadata": {},
   "outputs": [
    {
     "data": {
      "text/plain": [
       "array([ 35,  45, 190, 200,  40,  70,  54, 150, 120, 110])"
      ]
     },
     "execution_count": 4,
     "metadata": {},
     "output_type": "execute_result"
    }
   ],
   "source": [
    "zp_arr = np.array(zp)\n",
    "zp_arr"
   ]
  },
  {
   "cell_type": "code",
   "execution_count": 5,
   "id": "b8254259-5e12-4431-b2d0-bb9de6f84f08",
   "metadata": {},
   "outputs": [
    {
     "data": {
      "text/plain": [
       "array([401, 574, 874, 919, 459, 739, 653, 902, 746, 832])"
      ]
     },
     "execution_count": 5,
     "metadata": {},
     "output_type": "execute_result"
    }
   ],
   "source": [
    "ks_arr = np.array(ks)\n",
    "ks_arr"
   ]
  },
  {
   "cell_type": "code",
   "execution_count": 6,
   "id": "e0b40654-0080-4c25-9aa0-7662185382f0",
   "metadata": {},
   "outputs": [
    {
     "data": {
      "text/plain": [
       "array([[ 3494.64,  9157.84],\n",
       "       [ 9157.84, 30468.89]])"
      ]
     },
     "execution_count": 6,
     "metadata": {},
     "output_type": "execute_result"
    }
   ],
   "source": [
    "np.cov(zp_arr, ks_arr, ddof=0)"
   ]
  },
  {
   "cell_type": "code",
   "execution_count": 7,
   "id": "87b7e2a3-2584-466e-8e63-70fee73b73a3",
   "metadata": {
    "tags": []
   },
   "outputs": [
    {
     "data": {
      "text/plain": [
       "9157.839999999997"
      ]
     },
     "execution_count": 7,
     "metadata": {},
     "output_type": "execute_result"
    }
   ],
   "source": [
    "cov = np.mean(ks_arr * zp_arr) - np.mean(ks_arr) * np.mean(zp_arr)\n",
    "cov"
   ]
  },
  {
   "cell_type": "code",
   "execution_count": 8,
   "id": "034a0b88-2a04-4dde-9714-42a42611f7d0",
   "metadata": {},
   "outputs": [
    {
     "data": {
      "text/plain": [
       "174.55340157098058"
      ]
     },
     "execution_count": 8,
     "metadata": {},
     "output_type": "execute_result"
    }
   ],
   "source": [
    "ks_std = np.std(ks_arr, ddof=0)\n",
    "ks_std"
   ]
  },
  {
   "cell_type": "code",
   "execution_count": 9,
   "id": "c8e8c4f7-cea0-4787-89a9-4ec4873bd5c8",
   "metadata": {},
   "outputs": [
    {
     "data": {
      "text/plain": [
       "59.115480206118605"
      ]
     },
     "execution_count": 9,
     "metadata": {},
     "output_type": "execute_result"
    }
   ],
   "source": [
    "zp_std = np.std(zp_arr, ddof=0)\n",
    "zp_std"
   ]
  },
  {
   "cell_type": "code",
   "execution_count": 10,
   "id": "375cea84-b9f1-4cb8-b0db-777cbb9b7d3a",
   "metadata": {},
   "outputs": [
    {
     "data": {
      "text/plain": [
       "0.8874900920739158"
      ]
     },
     "execution_count": 10,
     "metadata": {},
     "output_type": "execute_result"
    }
   ],
   "source": [
    "cov_pirs = cov / (zp_std * ks_std)\n",
    "cov_pirs"
   ]
  },
  {
   "cell_type": "code",
   "execution_count": 11,
   "id": "deff7e4d-3c7a-4686-bf10-1e7bca80ba8a",
   "metadata": {},
   "outputs": [
    {
     "data": {
      "text/plain": [
       "array([[1.        , 0.88749009],\n",
       "       [0.88749009, 1.        ]])"
      ]
     },
     "execution_count": 11,
     "metadata": {},
     "output_type": "execute_result"
    }
   ],
   "source": [
    "np.corrcoef(zp_arr, ks_arr)"
   ]
  },
  {
   "cell_type": "markdown",
   "id": "7585175a-e9c1-4a3c-96d3-16e461bd063e",
   "metadata": {},
   "source": [
    "2. Измерены значения IQ выборки студентов,\n",
    "обучающихся в местных технических вузах:\n",
    "131, 125, 115, 122, 131, 115, 107, 99, 125, 111.\n",
    "Известно, что в генеральной совокупности IQ распределен нормально.\n",
    "Найдите доверительный интервал для математического ожидания с надежностью 0.95."
   ]
  },
  {
   "cell_type": "code",
   "execution_count": 12,
   "id": "7b77a9a4-5664-4a02-afe0-de8ae5ddc9e1",
   "metadata": {},
   "outputs": [
    {
     "data": {
      "text/plain": [
       "array([131, 125, 115, 122, 131, 115, 107,  99, 125, 111])"
      ]
     },
     "execution_count": 12,
     "metadata": {},
     "output_type": "execute_result"
    }
   ],
   "source": [
    "iq = np.array([131, 125, 115, 122, 131, 115, 107, 99, 125, 111])\n",
    "iq"
   ]
  },
  {
   "cell_type": "code",
   "execution_count": 13,
   "id": "4699e159-c307-404f-9b7e-3d1de4f876f7",
   "metadata": {},
   "outputs": [
    {
     "data": {
      "text/plain": [
       "118.1"
      ]
     },
     "execution_count": 13,
     "metadata": {},
     "output_type": "execute_result"
    }
   ],
   "source": [
    "X = np.mean(iq)\n",
    "X"
   ]
  },
  {
   "cell_type": "code",
   "execution_count": 14,
   "id": "e640481c-581f-4788-a931-6c46afe31724",
   "metadata": {},
   "outputs": [
    {
     "data": {
      "text/plain": [
       "10.54566788359614"
      ]
     },
     "execution_count": 14,
     "metadata": {},
     "output_type": "execute_result"
    }
   ],
   "source": [
    "sigma = np.std(iq, ddof=1)\n",
    "sigma"
   ]
  },
  {
   "cell_type": "code",
   "execution_count": 15,
   "id": "c690971e-ceb2-4960-b388-4fabe6413d64",
   "metadata": {},
   "outputs": [],
   "source": [
    "t_a2 = 2.262 # по Стьюденту а = 0.025\n",
    "n = 10"
   ]
  },
  {
   "cell_type": "code",
   "execution_count": 16,
   "id": "b0a39504-96ba-4281-94a1-2d837deb60a3",
   "metadata": {},
   "outputs": [
    {
     "name": "stdout",
     "output_type": "stream",
     "text": [
      "110.55660776308164 125.64339223691834\n"
     ]
    }
   ],
   "source": [
    "X1 = X + t_a2 * (sigma / sqrt(n))\n",
    "X2 = X - t_a2 * (sigma / sqrt(n))\n",
    "print(X2, X1)"
   ]
  },
  {
   "cell_type": "markdown",
   "id": "b46c2eb5-f73f-489f-8166-3f1dd27ab1f1",
   "metadata": {},
   "source": [
    "3. Известно, что рост футболистов в сборной распределен нормально\n",
    "с дисперсией генеральной совокупности, равной 25 кв.см. Объем выборки равен 27,\n",
    "среднее выборочное составляет 174.2. Найдите доверительный интервал для математического\n",
    "ожидания с надежностью 0.95."
   ]
  },
  {
   "cell_type": "code",
   "execution_count": 17,
   "id": "c53c7932-ff1a-4999-b124-08ff7b5dcdf0",
   "metadata": {},
   "outputs": [],
   "source": [
    "X = 174.2\n",
    "n = 27\n",
    "Z_a2 = 1.96\n",
    "sigma = 5"
   ]
  },
  {
   "cell_type": "code",
   "execution_count": 19,
   "id": "21c80125-22db-4241-8ed5-be0c80ceaf7e",
   "metadata": {},
   "outputs": [
    {
     "name": "stdout",
     "output_type": "stream",
     "text": [
      "172.31398912064722 176.08601087935276\n"
     ]
    }
   ],
   "source": [
    "X1 = X + Z_a2 * sigma / sqrt(n)\n",
    "X2 = X - Z_a2 * sigma / sqrt(n)\n",
    "print(X2, X1)"
   ]
  }
 ],
 "metadata": {
  "kernelspec": {
   "display_name": "Python 3 (ipykernel)",
   "language": "python",
   "name": "python3"
  },
  "language_info": {
   "codemirror_mode": {
    "name": "ipython",
    "version": 3
   },
   "file_extension": ".py",
   "mimetype": "text/x-python",
   "name": "python",
   "nbconvert_exporter": "python",
   "pygments_lexer": "ipython3",
   "version": "3.9.7"
  }
 },
 "nbformat": 4,
 "nbformat_minor": 5
}
