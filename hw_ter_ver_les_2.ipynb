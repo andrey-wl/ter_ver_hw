{
 "cells": [
  {
   "cell_type": "code",
   "execution_count": 1,
   "id": "b65fdf6d-2479-4424-9bee-d82bd715b43f",
   "metadata": {},
   "outputs": [],
   "source": [
    "from math import factorial\n",
    "import math"
   ]
  },
  {
   "cell_type": "code",
   "execution_count": 2,
   "id": "4bcf4a9b-3037-49ac-8654-46c2a4079af9",
   "metadata": {},
   "outputs": [],
   "source": [
    "def combination(n, k):\n",
    "    return int(factorial(n) / (factorial(k) * factorial(n-k)))"
   ]
  },
  {
   "cell_type": "code",
   "execution_count": 3,
   "id": "d78b7118-5e17-4e69-8d87-8946abf1c791",
   "metadata": {},
   "outputs": [],
   "source": [
    "def puasson(l, m):\n",
    "    return float(l ** m / (factorial(m)) * math.e ** (-l))"
   ]
  },
  {
   "cell_type": "code",
   "execution_count": 4,
   "id": "cb51eef8-0bc7-4185-9e2e-67dba9b8a64f",
   "metadata": {},
   "outputs": [],
   "source": [
    "# 1\n",
    "# Вероятность того, что стрелок попадет в мишень, выстрелив один раз, равна 0.8. Стрелок выстрелил 100 раз. \n",
    "# Найдите вероятность того, что стрелок попадет в цель ровно 85 раз."
   ]
  },
  {
   "cell_type": "code",
   "execution_count": 5,
   "id": "86539423-06af-4648-a44e-2c723da3eb39",
   "metadata": {},
   "outputs": [],
   "source": [
    "# Дискр., p > 0.1, n < 1000 -> Биномиальный закон распределения."
   ]
  },
  {
   "cell_type": "code",
   "execution_count": 6,
   "id": "807831bd-707f-42d6-aed7-bc08ffc708cb",
   "metadata": {},
   "outputs": [],
   "source": [
    "n = 100\n",
    "k = 85"
   ]
  },
  {
   "cell_type": "code",
   "execution_count": 7,
   "id": "810c6a53-d30b-4db1-9b19-11fd0ff75d3a",
   "metadata": {
    "tags": []
   },
   "outputs": [
    {
     "data": {
      "text/plain": [
       "253338471349988640"
      ]
     },
     "execution_count": 7,
     "metadata": {},
     "output_type": "execute_result"
    }
   ],
   "source": [
    "C = combination(n, k)\n",
    "C"
   ]
  },
  {
   "cell_type": "code",
   "execution_count": 8,
   "id": "ad4990f4-97c5-4240-82c9-ad273d0a6613",
   "metadata": {},
   "outputs": [
    {
     "data": {
      "text/plain": [
       "5.789604461865837e-09"
      ]
     },
     "execution_count": 8,
     "metadata": {},
     "output_type": "execute_result"
    }
   ],
   "source": [
    "p = 0.8**k\n",
    "p"
   ]
  },
  {
   "cell_type": "code",
   "execution_count": 9,
   "id": "18783f74-af28-4a31-aacf-959417df0c60",
   "metadata": {},
   "outputs": [
    {
     "data": {
      "text/plain": [
       "3.276800000000003e-11"
      ]
     },
     "execution_count": 9,
     "metadata": {},
     "output_type": "execute_result"
    }
   ],
   "source": [
    "q = 0.2**(n-k)\n",
    "q"
   ]
  },
  {
   "cell_type": "code",
   "execution_count": 10,
   "id": "39a67ad6-f5d4-4a51-b45a-17d323666c31",
   "metadata": {},
   "outputs": [
    {
     "data": {
      "text/plain": [
       "4.806179370074656"
      ]
     },
     "execution_count": 10,
     "metadata": {},
     "output_type": "execute_result"
    }
   ],
   "source": [
    "P = C * p * q * 100\n",
    "P"
   ]
  },
  {
   "cell_type": "code",
   "execution_count": 11,
   "id": "8c8827f8-8f44-441b-9f82-e2f94712ae89",
   "metadata": {
    "tags": []
   },
   "outputs": [],
   "source": [
    "# 2 Вероятность того, что лампочка перегорит в течение первого дня эксплуатации, равна 0.0004. \n",
    "# В жилом комплексе после ремонта в один день включили 5000 новых лампочек. \n",
    "# Какова вероятность, что ни одна из них не перегорит в первый день? \n",
    "# Какова вероятность, что перегорят ровно две?"
   ]
  },
  {
   "cell_type": "code",
   "execution_count": 12,
   "id": "35448a61-5474-4269-9aec-a8875e703ab2",
   "metadata": {},
   "outputs": [],
   "source": [
    "# Дискр., p < 0.1, n > 1000 -> Распределение Пуассона."
   ]
  },
  {
   "cell_type": "code",
   "execution_count": 13,
   "id": "5432d2e7-80ac-4554-b4bb-0342da1be9c5",
   "metadata": {},
   "outputs": [],
   "source": [
    "# Какова вероятность, что ни одна из них не перегорит в первый день? "
   ]
  },
  {
   "cell_type": "code",
   "execution_count": 14,
   "id": "a39e5452-112f-4951-bce3-70b536d42d35",
   "metadata": {},
   "outputs": [],
   "source": [
    "m_1 = 0  # ни одна из них не перегорит \n",
    "m_2 = 2 # перегорят ровно две\n",
    "n = 5000\n",
    "p = 0.0004"
   ]
  },
  {
   "cell_type": "code",
   "execution_count": 15,
   "id": "6f2794e5-3a6b-4223-b271-f1fefc92f737",
   "metadata": {},
   "outputs": [
    {
     "data": {
      "text/plain": [
       "2.0"
      ]
     },
     "execution_count": 15,
     "metadata": {},
     "output_type": "execute_result"
    }
   ],
   "source": [
    "l = p * n\n",
    "l"
   ]
  },
  {
   "cell_type": "code",
   "execution_count": 16,
   "id": "bb351c35-5612-46f8-ab5a-b5dd9102533f",
   "metadata": {},
   "outputs": [
    {
     "data": {
      "text/plain": [
       "13.53352832366127"
      ]
     },
     "execution_count": 16,
     "metadata": {},
     "output_type": "execute_result"
    }
   ],
   "source": [
    "P = puasson(l, m_1)\n",
    "P * 100"
   ]
  },
  {
   "cell_type": "code",
   "execution_count": 17,
   "id": "6b377e73-ce11-4a30-b803-35ab852f0227",
   "metadata": {},
   "outputs": [],
   "source": [
    "# Какова вероятность, что перегорят ровно две?"
   ]
  },
  {
   "cell_type": "code",
   "execution_count": 18,
   "id": "a6705d8a-a7af-4747-8c45-3b55d1066ca8",
   "metadata": {},
   "outputs": [
    {
     "data": {
      "text/plain": [
       "27.06705664732254"
      ]
     },
     "execution_count": 18,
     "metadata": {},
     "output_type": "execute_result"
    }
   ],
   "source": [
    "P = puasson(l, m_2)\n",
    "P * 100"
   ]
  },
  {
   "cell_type": "code",
   "execution_count": 19,
   "id": "02cfc422-72b9-4199-81d4-1c15b8a4fe08",
   "metadata": {},
   "outputs": [],
   "source": [
    "# 3\n",
    "# Монету подбросили 144 раза. \n",
    "# Какова вероятность, что орел выпадет ровно 70 раз?"
   ]
  },
  {
   "cell_type": "code",
   "execution_count": 20,
   "id": "792a74d0-a19c-45c2-9618-b57a5862a816",
   "metadata": {},
   "outputs": [],
   "source": [
    "n = 144\n",
    "k = 70\n",
    "p = 0.5\n",
    "q = 0.5"
   ]
  },
  {
   "cell_type": "code",
   "execution_count": 21,
   "id": "16d79b3f-fee3-4423-b363-bf97498f8bf4",
   "metadata": {},
   "outputs": [
    {
     "data": {
      "text/plain": [
       "1400749509083708712353342007350408066891776"
      ]
     },
     "execution_count": 21,
     "metadata": {},
     "output_type": "execute_result"
    }
   ],
   "source": [
    "C = combination(n, k)\n",
    "C"
   ]
  },
  {
   "cell_type": "code",
   "execution_count": 22,
   "id": "33be1dcd-4e35-407d-b9a3-56accfd9b38b",
   "metadata": {},
   "outputs": [
    {
     "data": {
      "text/plain": [
       "6.281178035144776"
      ]
     },
     "execution_count": 22,
     "metadata": {},
     "output_type": "execute_result"
    }
   ],
   "source": [
    "P = C * (p**(k)) * (q**(n - k))\n",
    "P * 100"
   ]
  },
  {
   "cell_type": "code",
   "execution_count": 23,
   "id": "c0dcfb41-c3d4-4b31-acc6-0cf3eb3b4c90",
   "metadata": {},
   "outputs": [],
   "source": [
    "# 4\n",
    "# В первом ящике находится 10 мячей, из которых 7 - белые. Во втором ящике - 11 мячей, из которых 9 белых. \n",
    "# Из каждого ящика вытаскивают случайным образом по два мяча. \n",
    "# Какова вероятность того, что все мячи белые? \n",
    "# Какова вероятность того, что ровно два мяча белые? \n",
    "# Какова вероятность того, что хотя бы один мяч белый?"
   ]
  },
  {
   "cell_type": "code",
   "execution_count": 24,
   "id": "f4bd2a03-73f5-4f31-87c4-7d88344bfeee",
   "metadata": {},
   "outputs": [],
   "source": [
    "# Какова вероятность того, что все мячи белые? "
   ]
  },
  {
   "cell_type": "code",
   "execution_count": 25,
   "id": "659fc435-a56e-4d2b-84c3-dd6326fd9d35",
   "metadata": {},
   "outputs": [
    {
     "data": {
      "text/plain": [
       "30.545454545454543"
      ]
     },
     "execution_count": 25,
     "metadata": {},
     "output_type": "execute_result"
    }
   ],
   "source": [
    "# Услов. вероянтность\n",
    "P = 1 * 7/10 * 6/9 * 1 * 9/11 * 8/10\n",
    "P * 100"
   ]
  },
  {
   "cell_type": "code",
   "execution_count": 26,
   "id": "7cac5d4a-0d21-42f5-9b48-f524cff082e9",
   "metadata": {},
   "outputs": [],
   "source": [
    "n_1 = 7\n",
    "k_1 = 2"
   ]
  },
  {
   "cell_type": "code",
   "execution_count": 27,
   "id": "1903120c-42a6-4dbf-9053-e3d0c41febd0",
   "metadata": {},
   "outputs": [],
   "source": [
    "n_2 = 10\n",
    "k_2 = 2"
   ]
  },
  {
   "cell_type": "code",
   "execution_count": 28,
   "id": "d5f0487e-276c-4562-b88f-83ac51accade",
   "metadata": {},
   "outputs": [
    {
     "data": {
      "text/plain": [
       "21"
      ]
     },
     "execution_count": 28,
     "metadata": {},
     "output_type": "execute_result"
    }
   ],
   "source": [
    "c_1 = combination(n_1, k_1)\n",
    "c_1"
   ]
  },
  {
   "cell_type": "code",
   "execution_count": 29,
   "id": "0d726b18-3bce-48c8-bdf9-a430cb9329a3",
   "metadata": {},
   "outputs": [
    {
     "data": {
      "text/plain": [
       "45"
      ]
     },
     "execution_count": 29,
     "metadata": {},
     "output_type": "execute_result"
    }
   ],
   "source": [
    "c_2 = combination(n_2, k_2)\n",
    "c_2"
   ]
  },
  {
   "cell_type": "code",
   "execution_count": 30,
   "id": "2821d122-afb2-4ce3-9f9e-566bb8698553",
   "metadata": {},
   "outputs": [
    {
     "data": {
      "text/plain": [
       "46.666666666666664"
      ]
     },
     "execution_count": 30,
     "metadata": {},
     "output_type": "execute_result"
    }
   ],
   "source": [
    "P_1_1 = c_1 / c_2\n",
    "P_1_1 * 100"
   ]
  },
  {
   "cell_type": "code",
   "execution_count": 31,
   "id": "169d7d19-085e-4d81-b507-587f4079a26d",
   "metadata": {},
   "outputs": [],
   "source": [
    "n_3 = 9\n",
    "k_3 = 2"
   ]
  },
  {
   "cell_type": "code",
   "execution_count": 32,
   "id": "991373fb-a92c-479a-895e-510c8fdd58e3",
   "metadata": {},
   "outputs": [],
   "source": [
    "n_4 = 11\n",
    "k_4 = 2"
   ]
  },
  {
   "cell_type": "code",
   "execution_count": 33,
   "id": "befafe06-3e15-4c77-ae6f-5e33d5d40452",
   "metadata": {},
   "outputs": [
    {
     "data": {
      "text/plain": [
       "36"
      ]
     },
     "execution_count": 33,
     "metadata": {},
     "output_type": "execute_result"
    }
   ],
   "source": [
    "c_3 = combination(n_3, k_3)\n",
    "c_3"
   ]
  },
  {
   "cell_type": "code",
   "execution_count": 34,
   "id": "47145beb-cbdf-496b-82f6-d76cb40e981c",
   "metadata": {},
   "outputs": [
    {
     "data": {
      "text/plain": [
       "55"
      ]
     },
     "execution_count": 34,
     "metadata": {},
     "output_type": "execute_result"
    }
   ],
   "source": [
    "c_4 = combination(n_4, k_4)\n",
    "c_4"
   ]
  },
  {
   "cell_type": "code",
   "execution_count": 35,
   "id": "028997d8-bd60-450e-9185-45debe038596",
   "metadata": {},
   "outputs": [
    {
     "data": {
      "text/plain": [
       "65.45454545454545"
      ]
     },
     "execution_count": 35,
     "metadata": {},
     "output_type": "execute_result"
    }
   ],
   "source": [
    "P_2_1 = c_3 / c_4\n",
    "P_2_1 * 100"
   ]
  },
  {
   "cell_type": "code",
   "execution_count": 36,
   "id": "b5264b00-f690-4b21-b60b-2dfb17dc6da6",
   "metadata": {},
   "outputs": [
    {
     "data": {
      "text/plain": [
       "30.545454545454547"
      ]
     },
     "execution_count": 36,
     "metadata": {},
     "output_type": "execute_result"
    }
   ],
   "source": [
    "P = P_1_1 * P_2_1\n",
    "P * 100"
   ]
  },
  {
   "cell_type": "code",
   "execution_count": 37,
   "id": "03da253e-57a9-43fd-9c24-bb286d3d01a7",
   "metadata": {},
   "outputs": [],
   "source": [
    "# Какова вероятность того, что ровно два мяча белые? "
   ]
  },
  {
   "cell_type": "code",
   "execution_count": 38,
   "id": "7b95d6af-83a4-484f-8b62-de18872a21fe",
   "metadata": {},
   "outputs": [],
   "source": [
    "# благоприятных исходов может быть 3"
   ]
  },
  {
   "cell_type": "code",
   "execution_count": 39,
   "id": "e347797c-cd0e-4203-9be8-43728004137d",
   "metadata": {},
   "outputs": [],
   "source": [
    "# 1 белый и чёрный для 1-го ящика"
   ]
  },
  {
   "cell_type": "code",
   "execution_count": 40,
   "id": "d25ab305-c903-4161-8e9d-ccbb1f38949b",
   "metadata": {},
   "outputs": [],
   "source": [
    "n_1 = 7\n",
    "k_1 = 1"
   ]
  },
  {
   "cell_type": "code",
   "execution_count": 41,
   "id": "32fb97a8-d11e-466c-b295-096c1821460e",
   "metadata": {},
   "outputs": [
    {
     "data": {
      "text/plain": [
       "7"
      ]
     },
     "execution_count": 41,
     "metadata": {},
     "output_type": "execute_result"
    }
   ],
   "source": [
    "c_1 = combination(n_1, k_1)\n",
    "c_1"
   ]
  },
  {
   "cell_type": "code",
   "execution_count": 42,
   "id": "8058a897-858a-4e76-a10d-73d2ecd1f0ae",
   "metadata": {},
   "outputs": [],
   "source": [
    "n_2 = 3\n",
    "k_2 = 1"
   ]
  },
  {
   "cell_type": "code",
   "execution_count": 43,
   "id": "6098e881-1056-455c-bde8-35fbe2e0fa6e",
   "metadata": {},
   "outputs": [
    {
     "data": {
      "text/plain": [
       "3"
      ]
     },
     "execution_count": 43,
     "metadata": {},
     "output_type": "execute_result"
    }
   ],
   "source": [
    "c_2 = combination(n_2, k_2)\n",
    "c_2"
   ]
  },
  {
   "cell_type": "code",
   "execution_count": 44,
   "id": "c0d833b0-410f-42ed-9c89-07e1d92ca8ff",
   "metadata": {},
   "outputs": [],
   "source": [
    "n_3 = 10\n",
    "k_3 = 2"
   ]
  },
  {
   "cell_type": "code",
   "execution_count": 45,
   "id": "6183e985-7b97-4a45-bc17-e6bbb7e192db",
   "metadata": {},
   "outputs": [
    {
     "data": {
      "text/plain": [
       "45"
      ]
     },
     "execution_count": 45,
     "metadata": {},
     "output_type": "execute_result"
    }
   ],
   "source": [
    "c_3 = combination(n_3, k_3)\n",
    "c_3"
   ]
  },
  {
   "cell_type": "code",
   "execution_count": 46,
   "id": "5c697829-ee13-41cc-ade5-a123f16b3f6b",
   "metadata": {},
   "outputs": [
    {
     "data": {
      "text/plain": [
       "46.666666666666664"
      ]
     },
     "execution_count": 46,
     "metadata": {},
     "output_type": "execute_result"
    }
   ],
   "source": [
    "P_1_2 = (c_1 * c_2) / c_3\n",
    "P_1_2 * 100                     "
   ]
  },
  {
   "cell_type": "code",
   "execution_count": 47,
   "id": "f26594d0-a524-4117-b337-bdba122997d9",
   "metadata": {},
   "outputs": [],
   "source": [
    "# в 1 ящике 2 чёрных"
   ]
  },
  {
   "cell_type": "code",
   "execution_count": 48,
   "id": "60f2cd98-1250-4989-bbed-a78b6d70031b",
   "metadata": {},
   "outputs": [],
   "source": [
    "n_4 = 3\n",
    "k_4 = 2"
   ]
  },
  {
   "cell_type": "code",
   "execution_count": 49,
   "id": "358afa8b-1395-4e5c-a4a1-76a59b1bfae6",
   "metadata": {},
   "outputs": [
    {
     "data": {
      "text/plain": [
       "3"
      ]
     },
     "execution_count": 49,
     "metadata": {},
     "output_type": "execute_result"
    }
   ],
   "source": [
    "c_4 = combination(n_4, k_4)\n",
    "c_4"
   ]
  },
  {
   "cell_type": "code",
   "execution_count": 50,
   "id": "4a8a92ea-e005-4127-9339-0e84e89fd74e",
   "metadata": {},
   "outputs": [
    {
     "data": {
      "text/plain": [
       "6.666666666666667"
      ]
     },
     "execution_count": 50,
     "metadata": {},
     "output_type": "execute_result"
    }
   ],
   "source": [
    "P_1_3 = c_4 / c_3\n",
    "P_1_3 * 100                   "
   ]
  },
  {
   "cell_type": "code",
   "execution_count": 51,
   "id": "1ca7f50b-5b78-46ce-8698-e44ad0b3fcd1",
   "metadata": {},
   "outputs": [],
   "source": [
    "# 1 белый и чёрный для 2-го ящика"
   ]
  },
  {
   "cell_type": "code",
   "execution_count": 52,
   "id": "2059a461-4c4e-4ddf-a6cc-e8a0d258a37c",
   "metadata": {},
   "outputs": [],
   "source": [
    "n_1 = 9\n",
    "k_1 = 1"
   ]
  },
  {
   "cell_type": "code",
   "execution_count": 53,
   "id": "ead06fbf-5c48-4737-b25d-1486cc98c4a8",
   "metadata": {},
   "outputs": [
    {
     "data": {
      "text/plain": [
       "9"
      ]
     },
     "execution_count": 53,
     "metadata": {},
     "output_type": "execute_result"
    }
   ],
   "source": [
    "c_1 = combination(n_1, k_1)\n",
    "c_1"
   ]
  },
  {
   "cell_type": "code",
   "execution_count": 54,
   "id": "5c860cda-6c0d-41b6-8704-12de9ab8ccca",
   "metadata": {},
   "outputs": [],
   "source": [
    "n_2 = 2\n",
    "k_2 = 1"
   ]
  },
  {
   "cell_type": "code",
   "execution_count": 55,
   "id": "b1854278-c3fa-4697-93ea-b0f698737fb3",
   "metadata": {},
   "outputs": [
    {
     "data": {
      "text/plain": [
       "2"
      ]
     },
     "execution_count": 55,
     "metadata": {},
     "output_type": "execute_result"
    }
   ],
   "source": [
    "c_2 = combination(n_2, k_2)\n",
    "c_2"
   ]
  },
  {
   "cell_type": "code",
   "execution_count": 56,
   "id": "a1d1f81a-f641-494f-9674-960363ab98cb",
   "metadata": {
    "tags": []
   },
   "outputs": [],
   "source": [
    "n_3 = 11\n",
    "k_3 = 2"
   ]
  },
  {
   "cell_type": "code",
   "execution_count": 57,
   "id": "cbf04c0b-7f0a-4774-94eb-2e0924bbcd39",
   "metadata": {},
   "outputs": [
    {
     "data": {
      "text/plain": [
       "55"
      ]
     },
     "execution_count": 57,
     "metadata": {},
     "output_type": "execute_result"
    }
   ],
   "source": [
    "c_3 = combination(n_3, k_3)\n",
    "c_3"
   ]
  },
  {
   "cell_type": "code",
   "execution_count": 58,
   "id": "bf82bd79-506e-44f6-94cb-af03ec829135",
   "metadata": {},
   "outputs": [
    {
     "data": {
      "text/plain": [
       "32.72727272727273"
      ]
     },
     "execution_count": 58,
     "metadata": {},
     "output_type": "execute_result"
    }
   ],
   "source": [
    "P_2_2 = (c_1 * c_2) / c_3\n",
    "P_2_2 * 100    "
   ]
  },
  {
   "cell_type": "code",
   "execution_count": 59,
   "id": "8cfe19c8-bdb4-468f-b4b7-78db34db94bc",
   "metadata": {},
   "outputs": [],
   "source": [
    "# 2 чёрных в 2 ящике "
   ]
  },
  {
   "cell_type": "code",
   "execution_count": 60,
   "id": "91044e5e-7e55-40d5-8a44-32a2002ee4b1",
   "metadata": {},
   "outputs": [],
   "source": [
    "n_4 = 2\n",
    "k_4 = 2"
   ]
  },
  {
   "cell_type": "code",
   "execution_count": 61,
   "id": "2d593517-2457-4713-9f9e-f1fcc5d37625",
   "metadata": {},
   "outputs": [
    {
     "data": {
      "text/plain": [
       "1"
      ]
     },
     "execution_count": 61,
     "metadata": {},
     "output_type": "execute_result"
    }
   ],
   "source": [
    "c_4 = combination(n_4, k_4)\n",
    "c_4"
   ]
  },
  {
   "cell_type": "code",
   "execution_count": 62,
   "id": "a367a58d-05ec-4e60-acda-30190c0b5f90",
   "metadata": {},
   "outputs": [
    {
     "data": {
      "text/plain": [
       "1.8181818181818181"
      ]
     },
     "execution_count": 62,
     "metadata": {},
     "output_type": "execute_result"
    }
   ],
   "source": [
    "P_2_3 = c_4 / c_3\n",
    "P_2_3 * 100    "
   ]
  },
  {
   "cell_type": "code",
   "execution_count": 63,
   "id": "c171fa71-da2b-461f-9a0e-981c89ea99ff",
   "metadata": {},
   "outputs": [],
   "source": [
    "# вероятность, что 2 мяча будут белые"
   ]
  },
  {
   "cell_type": "code",
   "execution_count": 64,
   "id": "53ab893f-7664-44fe-a38d-99156bff7d00",
   "metadata": {},
   "outputs": [
    {
     "data": {
      "text/plain": [
       "20.484848484848488"
      ]
     },
     "execution_count": 64,
     "metadata": {},
     "output_type": "execute_result"
    }
   ],
   "source": [
    "P = (P_1_1 * P_2_3) + (P_1_2 * P_2_2) + (P_1_3 * P_2_1)\n",
    "P * 100"
   ]
  },
  {
   "cell_type": "code",
   "execution_count": 65,
   "id": "1458c4ad-fa2c-44b7-9a61-e539304a7726",
   "metadata": {},
   "outputs": [],
   "source": [
    "# Какова вероятность того, что хотя бы один мяч белый?"
   ]
  },
  {
   "cell_type": "code",
   "execution_count": 66,
   "id": "a4c630b1-98a2-4bb1-bf6d-838a32d19553",
   "metadata": {},
   "outputs": [],
   "source": [
    "n_1 = 3\n",
    "k_1 = 2"
   ]
  },
  {
   "cell_type": "code",
   "execution_count": 67,
   "id": "d24d7459-b034-4339-b682-16de7b705311",
   "metadata": {},
   "outputs": [
    {
     "data": {
      "text/plain": [
       "3"
      ]
     },
     "execution_count": 67,
     "metadata": {},
     "output_type": "execute_result"
    }
   ],
   "source": [
    "c_1 = combination(n_1, k_1)\n",
    "c_1"
   ]
  },
  {
   "cell_type": "code",
   "execution_count": 68,
   "id": "90d49213-0bd6-433b-8578-fbe2a4844b1f",
   "metadata": {},
   "outputs": [],
   "source": [
    "n_2 = 10\n",
    "k_2 = 2"
   ]
  },
  {
   "cell_type": "code",
   "execution_count": 69,
   "id": "646a24ca-a325-497f-a057-d4b750d11993",
   "metadata": {},
   "outputs": [
    {
     "data": {
      "text/plain": [
       "45"
      ]
     },
     "execution_count": 69,
     "metadata": {},
     "output_type": "execute_result"
    }
   ],
   "source": [
    "c_2 = combination(n_2, k_2)\n",
    "c_2"
   ]
  },
  {
   "cell_type": "code",
   "execution_count": 70,
   "id": "b6ee30e4-3b9a-44b5-bf39-b54ce52a2a07",
   "metadata": {},
   "outputs": [
    {
     "data": {
      "text/plain": [
       "42"
      ]
     },
     "execution_count": 70,
     "metadata": {},
     "output_type": "execute_result"
    }
   ],
   "source": [
    "c_3 = c_2 - c_1\n",
    "c_3"
   ]
  },
  {
   "cell_type": "code",
   "execution_count": 71,
   "id": "3ac2dfcb-4ee3-4d9a-bf10-66c33bd99e1f",
   "metadata": {},
   "outputs": [
    {
     "data": {
      "text/plain": [
       "0.9333333333333333"
      ]
     },
     "execution_count": 71,
     "metadata": {},
     "output_type": "execute_result"
    }
   ],
   "source": [
    "P1 = c_3 / c_2\n",
    "P1"
   ]
  },
  {
   "cell_type": "code",
   "execution_count": 72,
   "id": "b3565cc0-326d-42fc-ad41-b48ee7d99326",
   "metadata": {},
   "outputs": [],
   "source": [
    "n_3 = 2\n",
    "k_3 = 2"
   ]
  },
  {
   "cell_type": "code",
   "execution_count": 73,
   "id": "245a220a-23be-40b9-a879-7c0ef89039df",
   "metadata": {},
   "outputs": [
    {
     "data": {
      "text/plain": [
       "1"
      ]
     },
     "execution_count": 73,
     "metadata": {},
     "output_type": "execute_result"
    }
   ],
   "source": [
    "c_4 = combination(n_3, k_3)\n",
    "c_4"
   ]
  },
  {
   "cell_type": "code",
   "execution_count": 74,
   "id": "c44c1367-4227-48be-8c78-2135e6467216",
   "metadata": {},
   "outputs": [],
   "source": [
    "n_4 = 11\n",
    "k_4 = 2"
   ]
  },
  {
   "cell_type": "code",
   "execution_count": 75,
   "id": "c0dfe4fd-ed48-4cc4-aae4-76c2a481d607",
   "metadata": {},
   "outputs": [
    {
     "data": {
      "text/plain": [
       "55"
      ]
     },
     "execution_count": 75,
     "metadata": {},
     "output_type": "execute_result"
    }
   ],
   "source": [
    "c_5 = combination(n_4, k_4)\n",
    "c_5"
   ]
  },
  {
   "cell_type": "code",
   "execution_count": 76,
   "id": "b4915e78-ca5d-4289-9b29-7235ffd31ecf",
   "metadata": {},
   "outputs": [
    {
     "data": {
      "text/plain": [
       "54"
      ]
     },
     "execution_count": 76,
     "metadata": {},
     "output_type": "execute_result"
    }
   ],
   "source": [
    "c_6 = c_5 - c_4\n",
    "c_6"
   ]
  },
  {
   "cell_type": "code",
   "execution_count": 77,
   "id": "3a687352-2915-4475-b594-b94e1c8f0ac7",
   "metadata": {},
   "outputs": [
    {
     "data": {
      "text/plain": [
       "0.9818181818181818"
      ]
     },
     "execution_count": 77,
     "metadata": {},
     "output_type": "execute_result"
    }
   ],
   "source": [
    "P2 = c_6 / c_5\n",
    "P2"
   ]
  },
  {
   "cell_type": "code",
   "execution_count": 78,
   "id": "4ce488ec-8e43-4425-b475-7b300f2b8720",
   "metadata": {
    "tags": []
   },
   "outputs": [
    {
     "data": {
      "text/plain": [
       "91.63636363636364"
      ]
     },
     "execution_count": 78,
     "metadata": {},
     "output_type": "execute_result"
    }
   ],
   "source": [
    "P = P1 * P2\n",
    "P * 100"
   ]
  }
 ],
 "metadata": {
  "kernelspec": {
   "display_name": "Python 3 (ipykernel)",
   "language": "python",
   "name": "python3"
  },
  "language_info": {
   "codemirror_mode": {
    "name": "ipython",
    "version": 3
   },
   "file_extension": ".py",
   "mimetype": "text/x-python",
   "name": "python",
   "nbconvert_exporter": "python",
   "pygments_lexer": "ipython3",
   "version": "3.9.7"
  }
 },
 "nbformat": 4,
 "nbformat_minor": 5
}
