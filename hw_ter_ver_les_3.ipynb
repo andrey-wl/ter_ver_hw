{
 "cells": [
  {
   "cell_type": "code",
   "execution_count": 1,
   "id": "e0f9e5d0-107b-465b-94a6-136670827fdb",
   "metadata": {},
   "outputs": [],
   "source": [
    "import numpy as np\n",
    "from math import factorial"
   ]
  },
  {
   "cell_type": "code",
   "execution_count": 2,
   "id": "48b6c8e5-5b94-4c6e-906b-fe46b3d38775",
   "metadata": {},
   "outputs": [],
   "source": [
    "def combinations(n, k):\n",
    "    return int(factorial(n) / (factorial(k) * factorial(n-k)))"
   ]
  },
  {
   "cell_type": "markdown",
   "id": "34ba6ff0-a638-4884-af9a-2eb594e3655f",
   "metadata": {},
   "source": [
    "#### Урок 3. Описательная статистика. Качественные и количественные характеристики популяции. Графическое представление данных"
   ]
  },
  {
   "cell_type": "markdown",
   "id": "800142f0-56a2-49ea-b80e-6a745534fee5",
   "metadata": {},
   "source": [
    "1. Даны значения зарплат из выборки выпускников: 100, 80, 75, 77, 89, 33, 45, 25, 65, 17, 30, 24, 57, 55, 70, 75, 65, 84, 90, 150. Посчитать (желательно без использования статистических методов наподобие std, var, mean) среднее арифметическое, среднее квадратичное отклонение, смещенную и несмещенную оценки дисперсий для данной выборки."
   ]
  },
  {
   "cell_type": "code",
   "execution_count": 3,
   "id": "aa8bc89c-840a-47c7-a4ca-bf5d17054d2d",
   "metadata": {},
   "outputs": [
    {
     "data": {
      "text/plain": [
       "array([100,  80,  75,  77,  89,  33,  45,  25,  65,  17,  30,  24,  57,\n",
       "        55,  70,  75,  65,  84,  90, 150])"
      ]
     },
     "execution_count": 3,
     "metadata": {},
     "output_type": "execute_result"
    }
   ],
   "source": [
    "salary = np.array([100, 80, 75, 77, 89, 33, 45, 25, 65, 17, 30, 24, 57, 55, 70, 75, 65, 84, 90, 150])\n",
    "salary"
   ]
  },
  {
   "cell_type": "code",
   "execution_count": 4,
   "id": "d81f4424-01a9-43e0-84cc-a52c8b597d45",
   "metadata": {},
   "outputs": [
    {
     "data": {
      "text/plain": [
       "(20,)"
      ]
     },
     "execution_count": 4,
     "metadata": {},
     "output_type": "execute_result"
    }
   ],
   "source": [
    "salary.shape"
   ]
  },
  {
   "cell_type": "markdown",
   "id": "08c4f8fb-e467-47e2-b8a3-d1306ce2c554",
   "metadata": {},
   "source": [
    "### Среднее арифметическое"
   ]
  },
  {
   "cell_type": "code",
   "execution_count": 5,
   "id": "7f316a15-a2ff-4065-b3ff-66aa4fc30b68",
   "metadata": {},
   "outputs": [
    {
     "data": {
      "text/plain": [
       "65.3"
      ]
     },
     "execution_count": 5,
     "metadata": {},
     "output_type": "execute_result"
    }
   ],
   "source": [
    "# стат метод mean \n",
    "np.mean(salary)"
   ]
  },
  {
   "cell_type": "code",
   "execution_count": 6,
   "id": "410a1341-c075-45ef-8099-52249fb9f91f",
   "metadata": {},
   "outputs": [
    {
     "data": {
      "text/plain": [
       "65.3"
      ]
     },
     "execution_count": 6,
     "metadata": {},
     "output_type": "execute_result"
    }
   ],
   "source": [
    "# без стат метод std\n",
    "mean_salary = sum(salary) / len(salary)\n",
    "mean_salary"
   ]
  },
  {
   "cell_type": "markdown",
   "id": "323c6d49-8786-48b0-9057-b33c6ce9bc06",
   "metadata": {},
   "source": [
    "### Среднее квадратичное отклонение"
   ]
  },
  {
   "cell_type": "code",
   "execution_count": 7,
   "id": "57560b66-a108-4082-b3ff-f1ec9cbcd3b2",
   "metadata": {},
   "outputs": [
    {
     "data": {
      "text/plain": [
       "30.823854398825596"
      ]
     },
     "execution_count": 7,
     "metadata": {},
     "output_type": "execute_result"
    }
   ],
   "source": [
    "# стат метод std\n",
    "np.std(salary)"
   ]
  },
  {
   "cell_type": "code",
   "execution_count": 8,
   "id": "74ca7a1b-eac1-4723-b3fa-5c5e5b38342e",
   "metadata": {},
   "outputs": [],
   "source": [
    "result = []\n",
    "for i in salary:\n",
    "    tmp = (i - mean_salary) ** 2\n",
    "    result.append(tmp)"
   ]
  },
  {
   "cell_type": "code",
   "execution_count": 9,
   "id": "313ce69e-4cd0-4801-84ef-4e04983733f0",
   "metadata": {},
   "outputs": [
    {
     "data": {
      "text/plain": [
       "30.823854398825596"
      ]
     },
     "execution_count": 9,
     "metadata": {},
     "output_type": "execute_result"
    }
   ],
   "source": [
    "# без стат метод std\n",
    "salary_std = np.sqrt(sum(result) / len(salary))\n",
    "salary_std"
   ]
  },
  {
   "cell_type": "markdown",
   "id": "f3750c3c-05fb-4814-95fa-53c4f2494288",
   "metadata": {},
   "source": [
    "### Смещенная оценка дисперсии"
   ]
  },
  {
   "cell_type": "code",
   "execution_count": 10,
   "id": "7cc66048-c364-44cd-b257-9ca8433192c6",
   "metadata": {},
   "outputs": [
    {
     "data": {
      "text/plain": [
       "950.11"
      ]
     },
     "execution_count": 10,
     "metadata": {},
     "output_type": "execute_result"
    }
   ],
   "source": [
    "# стат метод var (смещен)\n",
    "np.var(salary)"
   ]
  },
  {
   "cell_type": "code",
   "execution_count": 11,
   "id": "acc174e7-66f7-436f-93ac-17d413df45d0",
   "metadata": {},
   "outputs": [
    {
     "data": {
      "text/plain": [
       "950.11"
      ]
     },
     "execution_count": 11,
     "metadata": {},
     "output_type": "execute_result"
    }
   ],
   "source": [
    "salary_var_s = sum(result) / len(salary)\n",
    "salary_var_s"
   ]
  },
  {
   "cell_type": "markdown",
   "id": "b9ec33ec-36d1-4dce-9633-6d34de3e7092",
   "metadata": {},
   "source": [
    "### Несмещенная оценка дисперсии"
   ]
  },
  {
   "cell_type": "code",
   "execution_count": 12,
   "id": "e48ca487-81f6-4c11-9df7-bc84dd68b8a8",
   "metadata": {},
   "outputs": [
    {
     "data": {
      "text/plain": [
       "1000.1157894736842"
      ]
     },
     "execution_count": 12,
     "metadata": {},
     "output_type": "execute_result"
    }
   ],
   "source": [
    "# стат метод var (не смещен)\n",
    "np.var(salary, ddof=1)"
   ]
  },
  {
   "cell_type": "code",
   "execution_count": 13,
   "id": "8bb1c7e7-fedd-413a-9b29-bb4c21738d09",
   "metadata": {
    "tags": []
   },
   "outputs": [
    {
     "data": {
      "text/plain": [
       "1000.1157894736842"
      ]
     },
     "execution_count": 13,
     "metadata": {},
     "output_type": "execute_result"
    }
   ],
   "source": [
    "# без стат метод var\n",
    "salary_var = sum(result) / (len(salary) - 1)\n",
    "salary_var"
   ]
  },
  {
   "cell_type": "markdown",
   "id": "305b44ef-e339-454f-b0a0-475434d1ba4f",
   "metadata": {},
   "source": [
    "2. В первом ящике находится 8 мячей, из которых 5 - белые. Во втором ящике - 12 мячей, из которых 5 белых. Из первого ящика вытаскивают случайным образом два мяча, из второго - 4. Какова вероятность того, что 3 мяча белые?"
   ]
  },
  {
   "cell_type": "code",
   "execution_count": 14,
   "id": "2273ec23-5d42-429b-a824-b02d60531956",
   "metadata": {},
   "outputs": [],
   "source": [
    "# Возможно 3 варианта\n",
    "# чч | чббб (чббб + бчбб + ббчб + бббч)\n",
    "# бб | чччб (чччб + ччбч + чбчч + бччч)\n",
    "# бч | ччбб (ччбб + ббчч + бчбч + чбчб + бччб + чббч)"
   ]
  },
  {
   "cell_type": "code",
   "execution_count": 15,
   "id": "183b9ecd-4eec-4211-ac0d-c02c60a18299",
   "metadata": {},
   "outputs": [
    {
     "data": {
      "text/plain": [
       "0.01515151515151515"
      ]
     },
     "execution_count": 15,
     "metadata": {},
     "output_type": "execute_result"
    }
   ],
   "source": [
    "P_1 = 3/8 * 2/7 * (7/12 * 5/11 * 4/10 * 3/9 + 5/12 * 7/11 * 4/10 * 3/9 + 5/12 * 4/11 * 7/10 * 3/9 + 5/12 * 4/11 * 3/10 * 7/9)\n",
    "P_1"
   ]
  },
  {
   "cell_type": "code",
   "execution_count": 16,
   "id": "75aa66b9-aa23-443f-988e-0842888766dc",
   "metadata": {},
   "outputs": [
    {
     "data": {
      "text/plain": [
       "0.12626262626262627"
      ]
     },
     "execution_count": 16,
     "metadata": {},
     "output_type": "execute_result"
    }
   ],
   "source": [
    "P_2 = 5/8 * 4/7 * (7/12 * 6/11 * 5/10 * 5/9 + 7/12 * 6/11 * 5/10 * 5/9 + 7/12 * 5/11 * 6/10 * 5/9 + 5/12 * 7/11 * 6/10 * 5/9)\n",
    "P_2"
   ]
  },
  {
   "cell_type": "code",
   "execution_count": 17,
   "id": "bab528a1-4a55-4eff-b91b-a19a734cfe84",
   "metadata": {},
   "outputs": [
    {
     "data": {
      "text/plain": [
       "0.22727272727272727"
      ]
     },
     "execution_count": 17,
     "metadata": {},
     "output_type": "execute_result"
    }
   ],
   "source": [
    "P_3 = (5/8 * 3/7 + 3/8 * 5/7) * (7/12 * 6/11 * 5/10 * 4/9 + 5/12 * 4/11 * 7/10 * 6/9 + 5/12 * 7/10 * 4/11 * 6/9 + 7/12 * 5/11 * 6/10 * 4/9 + 5/12 * 7/11 * 6/10 * 4/9 + 7/12 * 5/11 * 4/10 * 6/9)\n",
    "P_3"
   ]
  },
  {
   "cell_type": "code",
   "execution_count": 18,
   "id": "1f1ce20f-471a-4e04-9860-ad01b19a3a03",
   "metadata": {},
   "outputs": [
    {
     "name": "stdout",
     "output_type": "stream",
     "text": [
      "Вероятность, что 3 мяча белые 36.87%\n"
     ]
    }
   ],
   "source": [
    "P_total = P_1 + P_2 + P_3\n",
    "print(f'Вероятность, что 3 мяча белые {round(P_total * 100, 2)}%')"
   ]
  },
  {
   "cell_type": "code",
   "execution_count": 19,
   "id": "a33db6e3-f16a-43f7-974c-d18b4c514dc1",
   "metadata": {},
   "outputs": [
    {
     "data": {
      "text/plain": [
       "0.015151515151515152"
      ]
     },
     "execution_count": 19,
     "metadata": {},
     "output_type": "execute_result"
    }
   ],
   "source": [
    "P_1 = (combinations(3, 2) / combinations(8, 2)) * (combinations(7, 1) * combinations(5, 3)) / combinations(12, 4)\n",
    "P_1"
   ]
  },
  {
   "cell_type": "code",
   "execution_count": 20,
   "id": "22059d51-c2e4-48e0-ac97-ff77787cf855",
   "metadata": {},
   "outputs": [
    {
     "data": {
      "text/plain": [
       "0.12626262626262627"
      ]
     },
     "execution_count": 20,
     "metadata": {},
     "output_type": "execute_result"
    }
   ],
   "source": [
    "P_2 = (combinations(5, 2) / combinations(8, 2)) * (combinations(7, 3) * combinations(5, 1)) / combinations(12, 4)\n",
    "P_2"
   ]
  },
  {
   "cell_type": "code",
   "execution_count": 21,
   "id": "fca5be9f-8eb2-4d0c-8f9d-885a1bb6d36e",
   "metadata": {},
   "outputs": [
    {
     "data": {
      "text/plain": [
       "0.22727272727272727"
      ]
     },
     "execution_count": 21,
     "metadata": {},
     "output_type": "execute_result"
    }
   ],
   "source": [
    "P_3 = (combinations(5, 1) * combinations(3, 1) / combinations(8, 2)) * (combinations(7, 2) * combinations(5, 2)) / combinations(12, 4)\n",
    "P_3"
   ]
  },
  {
   "cell_type": "code",
   "execution_count": 22,
   "id": "70b333dd-3f31-4a4b-9bc8-63a38e50a162",
   "metadata": {},
   "outputs": [
    {
     "name": "stdout",
     "output_type": "stream",
     "text": [
      "Вероятность, что 3 мяча белые 36.87%\n"
     ]
    }
   ],
   "source": [
    "P_total = P_1 + P_2 + P_3\n",
    "print(f'Вероятность, что 3 мяча белые {round(P_total * 100, 2)}%')"
   ]
  },
  {
   "cell_type": "markdown",
   "id": "255db4b6-707e-42c3-a080-818bf42b90ed",
   "metadata": {},
   "source": [
    "3. На соревновании по биатлону один из трех спортсменов стреляет и попадает в мишень. Вероятность попадания для первого спортсмена равна 0.9, для второго — 0.8, для третьего — 0.6. Найти вероятность того, что выстрел произведен: a). первым спортсменом б). вторым спортсменом в). третьим спортсменом."
   ]
  },
  {
   "cell_type": "code",
   "execution_count": 23,
   "id": "36bd42c3-a531-4c9c-971c-151e4a375649",
   "metadata": {},
   "outputs": [],
   "source": [
    "p_1 = 0.9\n",
    "p_2 = 0.8\n",
    "p_3 = 0.6\n",
    "\n",
    "PB = 1/3 # Вероятности, что выстрел произведен конкретным спортсменом "
   ]
  },
  {
   "cell_type": "code",
   "execution_count": 24,
   "id": "5856127c-536f-4262-890d-0bd2b162442a",
   "metadata": {},
   "outputs": [
    {
     "name": "stdout",
     "output_type": "stream",
     "text": [
      "Полная вероятность наступления события 76.67%\n"
     ]
    }
   ],
   "source": [
    "# Найдем полную вероятнсть события (по формуле полной вероятности)\n",
    "\n",
    "PA = PB * p_1 + PB * p_2 + PB * p_3\n",
    "print(f'Полная вероятность наступления события {round(PA * 100, 2)}%')"
   ]
  },
  {
   "cell_type": "code",
   "execution_count": 25,
   "id": "e8ed0754-5c44-4589-a0f4-15522307b41e",
   "metadata": {},
   "outputs": [],
   "source": [
    "# Теперь с помощью формулы Байеса найдем вероятсноть для кажого события Bn"
   ]
  },
  {
   "cell_type": "code",
   "execution_count": 26,
   "id": "867c974f-28bc-4e1d-b25a-0ccf17728caf",
   "metadata": {},
   "outputs": [
    {
     "name": "stdout",
     "output_type": "stream",
     "text": [
      "Выстрел произведен 1 спортсменом 39.13%\n"
     ]
    }
   ],
   "source": [
    "PA_B1 = PB * p_1 / PA\n",
    "print(f'Выстрел произведен 1 спортсменом {round(PA_B1 * 100, 2)}%')"
   ]
  },
  {
   "cell_type": "code",
   "execution_count": 27,
   "id": "e7528ea3-c752-428a-b29b-5b99ba9ab212",
   "metadata": {},
   "outputs": [
    {
     "name": "stdout",
     "output_type": "stream",
     "text": [
      "Выстрел произведен 2 спортсменом 34.78%\n"
     ]
    }
   ],
   "source": [
    "PA_B2 = PB * p_2 / PA\n",
    "print(f'Выстрел произведен 2 спортсменом {round(PA_B2 * 100, 2)}%')"
   ]
  },
  {
   "cell_type": "code",
   "execution_count": 28,
   "id": "52f9f0b1-5527-4c63-b715-21e838e08de6",
   "metadata": {},
   "outputs": [
    {
     "name": "stdout",
     "output_type": "stream",
     "text": [
      "Выстрел произведен 3 спортсменом 26.09%\n"
     ]
    }
   ],
   "source": [
    "PA_B3 = PB * p_3 / PA\n",
    "print(f'Выстрел произведен 3 спортсменом {round(PA_B3 * 100, 2)}%')"
   ]
  },
  {
   "cell_type": "markdown",
   "id": "854e230a-c5c1-4def-8815-0d48d160d191",
   "metadata": {},
   "source": [
    "4. В университет на факультеты A и B поступило равное количество студентов, а на факультет C студентов поступило столько же, сколько на A и B вместе. Вероятность того, что студент факультета A сдаст первую сессию, равна 0.8. Для студента факультета B эта вероятность равна 0.7, а для студента факультета C - 0.9. Студент сдал первую сессию. Какова вероятность, что он учится: a). на факультете A б). на факультете B в). на факультете C?"
   ]
  },
  {
   "cell_type": "code",
   "execution_count": 29,
   "id": "0118ba2d-3e30-4eba-8230-973f2826d0e8",
   "metadata": {},
   "outputs": [],
   "source": [
    "p_1 = 0.8\n",
    "p_2 = 0.7\n",
    "p_3 = 0.9\n",
    "\n",
    "PB_1 = 1/4 #для факультета A и B\n",
    "PB_2 = 1/2 #для факультета С"
   ]
  },
  {
   "cell_type": "code",
   "execution_count": 30,
   "id": "7ebcbcfb-2e2a-4d75-8ae9-229772a03b65",
   "metadata": {},
   "outputs": [
    {
     "name": "stdout",
     "output_type": "stream",
     "text": [
      "Полная вероятность наступления события 82.5%\n"
     ]
    }
   ],
   "source": [
    "# Найдем полную вероятнсть события (по формуле полной вероятности)\n",
    "\n",
    "PA = PB_1 * p_1 + PB_1 * p_2 + PB_2 * p_3\n",
    "print(f'Полная вероятность наступления события {round(PA * 100, 2)}%')"
   ]
  },
  {
   "cell_type": "code",
   "execution_count": 31,
   "id": "c45a0fc2-85a6-4c59-b54f-b055039735dc",
   "metadata": {},
   "outputs": [],
   "source": [
    "# Теперь с помощью формулы Байеса найдем вероятсноть для кажого события Bn"
   ]
  },
  {
   "cell_type": "code",
   "execution_count": 32,
   "id": "4fee6394-c0fc-4178-845a-851f1d523ea3",
   "metadata": {},
   "outputs": [
    {
     "name": "stdout",
     "output_type": "stream",
     "text": [
      "Для студента факультета A 24.24%\n"
     ]
    }
   ],
   "source": [
    "PA_B1 = PB_1 * p_1 / PA\n",
    "print(f'Для студента факультета A {round(PA_B1 * 100, 2)}%')"
   ]
  },
  {
   "cell_type": "code",
   "execution_count": 33,
   "id": "21b773f9-e908-4fcd-9982-2ae629abdf0d",
   "metadata": {},
   "outputs": [
    {
     "name": "stdout",
     "output_type": "stream",
     "text": [
      "Для студента факультета B 21.21%\n"
     ]
    }
   ],
   "source": [
    "PA_B2 = PB_1 * p_2 / PA\n",
    "print(f'Для студента факультета B {round(PA_B2 * 100, 2)}%')"
   ]
  },
  {
   "cell_type": "code",
   "execution_count": 34,
   "id": "dfec3027-c451-4471-85c1-e240b8b602c5",
   "metadata": {},
   "outputs": [
    {
     "name": "stdout",
     "output_type": "stream",
     "text": [
      "Для студента факультета C 54.55%\n"
     ]
    }
   ],
   "source": [
    "PA_B3 = PB_2 * p_3 / PA\n",
    "print(f'Для студента факультета C {round(PA_B3 * 100, 2)}%')"
   ]
  },
  {
   "cell_type": "markdown",
   "id": "d7e24e6a-1b01-456f-8bc2-e02c4542bc28",
   "metadata": {},
   "source": [
    "5. Устройство состоит из трех деталей. Для первой детали вероятность выйти из строя в первый месяц равна 0.1, для второй - 0.2, для третьей - 0.25. Какова вероятность того, что в первый месяц выйдут из строя: а). все детали б). только две детали в). хотя бы одна деталь г). от одной до двух деталей?"
   ]
  },
  {
   "cell_type": "code",
   "execution_count": 35,
   "id": "259faa31-6b0a-4def-956a-0f006dbac6c7",
   "metadata": {
    "tags": []
   },
   "outputs": [],
   "source": [
    "p_1 = 0.1  # противополож. событие 0.9\n",
    "p_2 = 0.2  # противополож. событие 0.8\n",
    "p_3 = 0.25   # противополож. событие 0.75"
   ]
  },
  {
   "cell_type": "markdown",
   "id": "cff3d509-7d3a-434f-8aed-5fd1799239b8",
   "metadata": {},
   "source": [
    "### а). все детали"
   ]
  },
  {
   "cell_type": "code",
   "execution_count": 36,
   "id": "4818cf99-04f1-4d1b-b669-6d3f8dc30f8d",
   "metadata": {},
   "outputs": [
    {
     "name": "stdout",
     "output_type": "stream",
     "text": [
      "Выйдут из строя: а) все детали 0.5%\n"
     ]
    }
   ],
   "source": [
    "P_1 = p_1 * p_2 * p_3\n",
    "print(f'Выйдут из строя: а) все детали {round(P_1 * 100, 2)}%')"
   ]
  },
  {
   "cell_type": "markdown",
   "id": "776a81a4-82aa-4047-aed0-d71957295e6d",
   "metadata": {},
   "source": [
    "### б) 2 детали"
   ]
  },
  {
   "cell_type": "code",
   "execution_count": 37,
   "id": "4518916e-6e70-4df5-a428-c481760ab809",
   "metadata": {},
   "outputs": [],
   "source": [
    "# Возможны 3 варанта\n",
    "# A1 A2 A3(противополож)\n",
    "# A2 A3 A1(противополож)\n",
    "# A1 A3 A2(противополож)"
   ]
  },
  {
   "cell_type": "code",
   "execution_count": 38,
   "id": "b86170a7-4c34-4345-97d0-d9277e1f5b5c",
   "metadata": {},
   "outputs": [
    {
     "name": "stdout",
     "output_type": "stream",
     "text": [
      "Выйдут из строя: б) 2 детали 8.0%\n"
     ]
    }
   ],
   "source": [
    "P_2 = 0.1 * 0.2 * 0.75 + 0.2 * 0.25 * 0.9 + 0.1 * 0.25 * 0.8\n",
    "print(f'Выйдут из строя: б) 2 детали {round(P_2 * 100, 2)}%')"
   ]
  },
  {
   "cell_type": "markdown",
   "id": "9921ff5c-8bd3-46fe-8e93-fd68494b74bf",
   "metadata": {},
   "source": [
    "### в) хотя бы 1 деталь"
   ]
  },
  {
   "cell_type": "code",
   "execution_count": 39,
   "id": "dd83e930-1d87-4161-a33d-b5764723dd4c",
   "metadata": {},
   "outputs": [
    {
     "name": "stdout",
     "output_type": "stream",
     "text": [
      "Не выйдут из строя детали 54.0%\n"
     ]
    }
   ],
   "source": [
    "# Рассмотрим веротяноть, что ни одна деталь не вышла из строя\n",
    "P_3 = 0.9 * 0.8 * 0.75\n",
    "print(f'Не выйдут из строя детали {round(P_3 * 100, 2)}%')"
   ]
  },
  {
   "cell_type": "code",
   "execution_count": 40,
   "id": "45b61564-a137-4459-94b7-ef8590fde52f",
   "metadata": {},
   "outputs": [
    {
     "name": "stdout",
     "output_type": "stream",
     "text": [
      "Выйдут из строя: в) хотя 1 деталь 46.0%\n"
     ]
    }
   ],
   "source": [
    "P_4 = 1 - P_3\n",
    "print(f'Выйдут из строя: в) хотя 1 деталь {round(P_4 * 100, 2)}%')"
   ]
  },
  {
   "cell_type": "markdown",
   "id": "ad7eecbf-478e-47bb-8447-872c4b9215ae",
   "metadata": {},
   "source": [
    "### г). от одной до двух деталей"
   ]
  },
  {
   "cell_type": "code",
   "execution_count": 41,
   "id": "09e2d99b-5400-4c11-87e5-c9a157f0df30",
   "metadata": {},
   "outputs": [],
   "source": [
    "# Возможны 3 варанта (для одной детали)\n",
    "# A1 A2(противополож) A3(противополож)\n",
    "# A2 A3(противополож) A1(противополож)\n",
    "# A3 A2(противополож) A1(противополож)"
   ]
  },
  {
   "cell_type": "code",
   "execution_count": 42,
   "id": "e50d278f-1c66-4388-ab40-9152c53d449d",
   "metadata": {},
   "outputs": [
    {
     "name": "stdout",
     "output_type": "stream",
     "text": [
      "Выйдет из строя 1 деталь 37.5%\n"
     ]
    }
   ],
   "source": [
    "P_5 = 0.1 * 0.8 * 0.75 + 0.2 * 0.75 * 0.9 + 0.25 * 0.8 * 0.9\n",
    "print(f'Выйдет из строя 1 деталь {round(P_5 * 100, 2)}%')"
   ]
  },
  {
   "cell_type": "code",
   "execution_count": 43,
   "id": "62ed5d51-97ef-45be-ab13-94f7f0713e27",
   "metadata": {},
   "outputs": [
    {
     "name": "stdout",
     "output_type": "stream",
     "text": [
      "Выйдет из строя: от одной до двух деталей 45.5%\n"
     ]
    }
   ],
   "source": [
    "P_6 = P_2 + P_5\n",
    "print(f'Выйдет из строя: от одной до двух деталей {round(P_6 * 100, 2)}%')"
   ]
  }
 ],
 "metadata": {
  "kernelspec": {
   "display_name": "Python 3 (ipykernel)",
   "language": "python",
   "name": "python3"
  },
  "language_info": {
   "codemirror_mode": {
    "name": "ipython",
    "version": 3
   },
   "file_extension": ".py",
   "mimetype": "text/x-python",
   "name": "python",
   "nbconvert_exporter": "python",
   "pygments_lexer": "ipython3",
   "version": "3.9.7"
  }
 },
 "nbformat": 4,
 "nbformat_minor": 5
}
