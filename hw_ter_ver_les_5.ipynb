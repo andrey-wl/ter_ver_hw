{
 "cells": [
  {
   "cell_type": "code",
   "execution_count": 1,
   "id": "4edfb635-544d-4fc2-b88d-934404475ac7",
   "metadata": {},
   "outputs": [],
   "source": [
    "import numpy as np\n",
    "from math import sqrt"
   ]
  },
  {
   "cell_type": "markdown",
   "id": "43afcea9-b166-4dc9-9a93-dd1a3d42f9e6",
   "metadata": {},
   "source": [
    "### Урок 5. Проверка статистических гипотез. P-значения. Доверительные интервалы. A/B-тестирование"
   ]
  },
  {
   "cell_type": "markdown",
   "id": "98289d7f-d7a3-4a8b-9daa-cb7816ff085c",
   "metadata": {},
   "source": [
    "1. Известно, что генеральная совокупность распределена нормально\n",
    "со средним квадратическим отклонением, равным 16.\n",
    "Найти доверительный интервал для оценки математического ожидания a с надежностью 0.95,\n",
    "если выборочная средняя M = 80, а объем выборки n = 256."
   ]
  },
  {
   "cell_type": "code",
   "execution_count": 2,
   "id": "2aaedced-3f62-449c-8d59-882f51e75e44",
   "metadata": {},
   "outputs": [],
   "source": [
    "X = 80\n",
    "n = 256\n",
    "sigma = 16\n",
    "Z_a2 = 1.96"
   ]
  },
  {
   "cell_type": "code",
   "execution_count": 3,
   "id": "ff4ffbda-ba76-4111-9b37-8da22e1aa6ac",
   "metadata": {},
   "outputs": [],
   "source": [
    "X1 = X + Z_a2 * sigma/sqrt(n)\n",
    "X2 = X - Z_a2 * sigma/sqrt(n)"
   ]
  },
  {
   "cell_type": "code",
   "execution_count": 4,
   "id": "71dbd45b-8de3-423d-a983-14e3ac9f4ffd",
   "metadata": {},
   "outputs": [
    {
     "name": "stdout",
     "output_type": "stream",
     "text": [
      "[78.04,81.96]\n"
     ]
    }
   ],
   "source": [
    "print(f'[{X2},{X1}]')"
   ]
  },
  {
   "cell_type": "markdown",
   "id": "9b360bab-499d-49b4-ab21-80ba2ed8997f",
   "metadata": {},
   "source": [
    "2. В результате 10 независимых измерений некоторой величины X, выполненных с одинаковой точностью,\n",
    "получены опытные данные: 6.9, 6.1, 6.2, 6.8, 7.5, 6.3, 6.4, 6.9, 6.7, 6.1\n",
    "Предполагая, что результаты измерений подчинены нормальному закону распределения вероятностей,\n",
    "оценить истинное значение величины X при помощи доверительного интервала, покрывающего это\n",
    "значение с доверительной вероятностью 0,95."
   ]
  },
  {
   "cell_type": "code",
   "execution_count": 5,
   "id": "10aaa8fa-c935-4c5b-b30c-e90245cb45fe",
   "metadata": {},
   "outputs": [
    {
     "data": {
      "text/plain": [
       "array([6.9, 6.1, 6.2, 6.8, 7.5, 6.3, 6.4, 6.9, 6.7, 6.1])"
      ]
     },
     "execution_count": 5,
     "metadata": {},
     "output_type": "execute_result"
    }
   ],
   "source": [
    "d = np.array([6.9, 6.1, 6.2, 6.8, 7.5, 6.3, 6.4, 6.9, 6.7, 6.1])\n",
    "d"
   ]
  },
  {
   "cell_type": "code",
   "execution_count": 6,
   "id": "5cc133cf-74bd-48fd-93e4-9bcf4a546337",
   "metadata": {},
   "outputs": [
    {
     "data": {
      "text/plain": [
       "0.4508017549014448"
      ]
     },
     "execution_count": 6,
     "metadata": {},
     "output_type": "execute_result"
    }
   ],
   "source": [
    "sigma = np.std(d, ddof=1)\n",
    "sigma"
   ]
  },
  {
   "cell_type": "code",
   "execution_count": 7,
   "id": "b125b706-c2f1-4ece-97ad-f2628973d3ed",
   "metadata": {},
   "outputs": [
    {
     "data": {
      "text/plain": [
       "6.590000000000001"
      ]
     },
     "execution_count": 7,
     "metadata": {},
     "output_type": "execute_result"
    }
   ],
   "source": [
    "X = np.mean(d)\n",
    "X"
   ]
  },
  {
   "cell_type": "code",
   "execution_count": 8,
   "id": "80320e19-1fb7-4423-90b5-c79e0a878d22",
   "metadata": {},
   "outputs": [],
   "source": [
    "t_a2 = 2.262"
   ]
  },
  {
   "cell_type": "code",
   "execution_count": 9,
   "id": "4aa67764-aadc-484f-89cb-c8d1c37abedb",
   "metadata": {},
   "outputs": [],
   "source": [
    "X1 = X + t_a2 * sigma/sqrt(len(d))\n",
    "X2 = X - t_a2 * sigma/sqrt(len(d))"
   ]
  },
  {
   "cell_type": "code",
   "execution_count": 10,
   "id": "42d0dffd-6aa2-4663-b9d8-44c955c5294a",
   "metadata": {},
   "outputs": [
    {
     "name": "stdout",
     "output_type": "stream",
     "text": [
      "[6.267538255912426,6.912461744087575]\n"
     ]
    }
   ],
   "source": [
    "print(f'[{X2},{X1}]')"
   ]
  },
  {
   "cell_type": "markdown",
   "id": "85aef84a-2f42-44dc-a512-772f18fc6ce4",
   "metadata": {},
   "source": [
    "3. Утверждается, что шарики для подшипников, изготовленные автоматическим станком, имеют средний диаметр 17 мм.\n",
    "Используя односторонний критерий с α=0,05, проверить эту гипотезу, если в выборке из n=100 шариков средний диаметр\n",
    "оказался равным 17.5 мм, а дисперсия известна и равна 4 мм."
   ]
  },
  {
   "cell_type": "code",
   "execution_count": 11,
   "id": "31ec084c-c7b2-4bd5-8211-5e24b3d2d690",
   "metadata": {},
   "outputs": [],
   "source": [
    "alpha = 0.05\n",
    "n = 100\n",
    "M = 17 \n",
    "M_o = 17.5\n",
    "variance = 4\n",
    "Z = 1.96"
   ]
  },
  {
   "cell_type": "markdown",
   "id": "cf3576b4-2f10-4c84-894d-a45272173826",
   "metadata": {},
   "source": [
    "* *H0: M = M0*\n",
    "* *H1: M > M0*"
   ]
  },
  {
   "cell_type": "code",
   "execution_count": 12,
   "id": "b54c9aa4-b536-4586-88e1-495793609f88",
   "metadata": {},
   "outputs": [
    {
     "data": {
      "text/plain": [
       "2.5"
      ]
     },
     "execution_count": 12,
     "metadata": {},
     "output_type": "execute_result"
    }
   ],
   "source": [
    "Z_h = (M_o - M) / (sqrt(variance) / sqrt(n))\n",
    "Z_h "
   ]
  },
  {
   "cell_type": "markdown",
   "id": "7419575f-37ae-4367-bbc9-2760bb83765f",
   "metadata": {},
   "source": [
    "2.5 > 1.65 попадает в область H1, верна альтернативная гипотеза"
   ]
  },
  {
   "cell_type": "markdown",
   "id": "6f7103ba-8430-43a7-8baf-125758274b4e",
   "metadata": {},
   "source": [
    "4. Продавец утверждает, что средний вес пачки печенья составляет 200 г.\n",
    "Из партии извлечена выборка из 10 пачек. Вес каждой пачки составляет:\n",
    "202, 203, 199, 197, 195, 201, 200, 204, 194, 190.\n",
    "Известно, что их веса распределены нормально.\n",
    "Верно ли утверждение продавца, если учитывать, что доверительная вероятность равна 99%?"
   ]
  },
  {
   "cell_type": "code",
   "execution_count": 13,
   "id": "bbf23a5b-3b8b-44ee-bf10-b7f660fb41e1",
   "metadata": {},
   "outputs": [],
   "source": [
    "M_o = 200\n",
    "n = 10\n",
    "weights = np.array([202, 203, 199, 197, 195, 201, 200, 204, 194, 190])"
   ]
  },
  {
   "cell_type": "code",
   "execution_count": 14,
   "id": "dea9f448-4d6e-40b3-9d31-be2b03f3dc80",
   "metadata": {},
   "outputs": [
    {
     "data": {
      "text/plain": [
       "198.5"
      ]
     },
     "execution_count": 14,
     "metadata": {},
     "output_type": "execute_result"
    }
   ],
   "source": [
    "M = np.mean(weights)\n",
    "M"
   ]
  },
  {
   "cell_type": "markdown",
   "id": "78d6afae-b6da-43d2-ac27-402d7a3d59ee",
   "metadata": {},
   "source": [
    "* *H0: M = M0*\n",
    "* *H1: M != M0*"
   ]
  },
  {
   "cell_type": "markdown",
   "id": "9c873de8-2fe2-4a68-83fa-59997f6b0e06",
   "metadata": {},
   "source": [
    "Cигма неизвестна => Стьюдент"
   ]
  },
  {
   "cell_type": "code",
   "execution_count": 15,
   "id": "05ea3be1-6ea2-4cb5-8e7f-299854352e89",
   "metadata": {},
   "outputs": [],
   "source": [
    "alpha = 0.005\n",
    "T_t1 = - 3.25\n",
    "T_t2 = 3.25"
   ]
  },
  {
   "cell_type": "code",
   "execution_count": 16,
   "id": "b28ef5f0-f2f4-4719-97e0-97e4082dabf1",
   "metadata": {},
   "outputs": [
    {
     "data": {
      "text/plain": [
       "4.453463071962462"
      ]
     },
     "execution_count": 16,
     "metadata": {},
     "output_type": "execute_result"
    }
   ],
   "source": [
    "sigma = np.std(weights, ddof=1)\n",
    "sigma"
   ]
  },
  {
   "cell_type": "code",
   "execution_count": 17,
   "id": "c8c8da6a-2f52-4967-a8c2-8a14f3653427",
   "metadata": {},
   "outputs": [
    {
     "data": {
      "text/plain": [
       "-1.0651074037450896"
      ]
     },
     "execution_count": 17,
     "metadata": {},
     "output_type": "execute_result"
    }
   ],
   "source": [
    "T = (M - M_o) / (sigma / sqrt(n))\n",
    "T"
   ]
  },
  {
   "cell_type": "markdown",
   "id": "38b6f094-850c-4834-be29-fad754ece9a6",
   "metadata": {},
   "source": [
    "-1.065 > - 3.25 значение находится в области H0 => верна H0 гипотеза"
   ]
  }
 ],
 "metadata": {
  "kernelspec": {
   "display_name": "Python 3 (ipykernel)",
   "language": "python",
   "name": "python3"
  },
  "language_info": {
   "codemirror_mode": {
    "name": "ipython",
    "version": 3
   },
   "file_extension": ".py",
   "mimetype": "text/x-python",
   "name": "python",
   "nbconvert_exporter": "python",
   "pygments_lexer": "ipython3",
   "version": "3.9.7"
  }
 },
 "nbformat": 4,
 "nbformat_minor": 5
}
